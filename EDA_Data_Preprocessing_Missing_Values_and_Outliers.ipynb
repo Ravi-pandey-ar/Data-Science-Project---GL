{
 "cells": [
  {
   "cell_type": "markdown",
   "id": "18b22568",
   "metadata": {},
   "source": [
    "## Contents:\n",
    "\n",
    "Ways of detecting missing values\n",
    "\n",
    "Standarrd and non-standard missing values\n",
    "\n",
    "Basic imputation methods for replacing missing values\n",
    "\n",
    "Identifying and removing Duplicates from your data\n",
    "\n",
    "Outlier detection - visually\n",
    "\n",
    "Outlier detection - by Z-scores\n",
    "\n",
    "Replacing outliers by median\n",
    "\n",
    "Outlier detection - by IQR\n",
    "\n",
    "Replacing outliers by whiskers\n",
    "\n",
    "Remove or modify incorrect or unwanted observations"
   ]
  },
  {
   "cell_type": "markdown",
   "id": "13d943ae",
   "metadata": {},
   "source": [
    "# Dealing with Missing Values"
   ]
  },
  {
   "cell_type": "markdown",
   "id": "7f65d196",
   "metadata": {},
   "source": [
    "Here, We will discuss how to find and deal with missing values in a datast"
   ]
  },
  {
   "cell_type": "code",
   "execution_count": 2,
   "id": "47fbb74a",
   "metadata": {},
   "outputs": [],
   "source": [
    "## Importing the library"
   ]
  },
  {
   "cell_type": "code",
   "execution_count": 3,
   "id": "ee999e39",
   "metadata": {},
   "outputs": [],
   "source": [
    "import numpy as np\n",
    "import pandas as pd\n",
    "import seaborn as sns\n",
    "import matplotlib.pyplot as plt"
   ]
  },
  {
   "cell_type": "code",
   "execution_count": 4,
   "id": "fe72b078",
   "metadata": {},
   "outputs": [],
   "source": [
    "# Reading the data:"
   ]
  },
  {
   "cell_type": "code",
   "execution_count": 5,
   "id": "4e765050",
   "metadata": {},
   "outputs": [],
   "source": [
    "# The Dataset has information about some cities and states."
   ]
  },
  {
   "cell_type": "code",
   "execution_count": 7,
   "id": "aafe7708",
   "metadata": {},
   "outputs": [
    {
     "data": {
      "text/html": [
       "<div>\n",
       "<style scoped>\n",
       "    .dataframe tbody tr th:only-of-type {\n",
       "        vertical-align: middle;\n",
       "    }\n",
       "\n",
       "    .dataframe tbody tr th {\n",
       "        vertical-align: top;\n",
       "    }\n",
       "\n",
       "    .dataframe thead th {\n",
       "        text-align: right;\n",
       "    }\n",
       "</style>\n",
       "<table border=\"1\" class=\"dataframe\">\n",
       "  <thead>\n",
       "    <tr style=\"text-align: right;\">\n",
       "      <th></th>\n",
       "      <th>Number</th>\n",
       "      <th>City</th>\n",
       "      <th>Colors Reported</th>\n",
       "      <th>Shape Reported</th>\n",
       "      <th>State</th>\n",
       "      <th>Time</th>\n",
       "    </tr>\n",
       "  </thead>\n",
       "  <tbody>\n",
       "    <tr>\n",
       "      <th>0</th>\n",
       "      <td>123456.0</td>\n",
       "      <td>Ithaca</td>\n",
       "      <td>NaN</td>\n",
       "      <td>TRIANGLE</td>\n",
       "      <td>NY</td>\n",
       "      <td>6/1/1930 22:00</td>\n",
       "    </tr>\n",
       "    <tr>\n",
       "      <th>1</th>\n",
       "      <td>54321.0</td>\n",
       "      <td>Willingboro</td>\n",
       "      <td>green</td>\n",
       "      <td>NaN</td>\n",
       "      <td>NJ</td>\n",
       "      <td>6/30/1930 20:00</td>\n",
       "    </tr>\n",
       "    <tr>\n",
       "      <th>2</th>\n",
       "      <td>87654.0</td>\n",
       "      <td>Holyoke</td>\n",
       "      <td>NaN</td>\n",
       "      <td>OVAL</td>\n",
       "      <td>CO</td>\n",
       "      <td>2/15/1931 14:00</td>\n",
       "    </tr>\n",
       "    <tr>\n",
       "      <th>3</th>\n",
       "      <td>3456.0</td>\n",
       "      <td>Abilene</td>\n",
       "      <td>blue</td>\n",
       "      <td>DISK</td>\n",
       "      <td>KS</td>\n",
       "      <td>1/12/1900 0:00</td>\n",
       "    </tr>\n",
       "    <tr>\n",
       "      <th>4</th>\n",
       "      <td>7654.0</td>\n",
       "      <td>New York Worlds Fair</td>\n",
       "      <td>NaN</td>\n",
       "      <td>LIGHT</td>\n",
       "      <td>NY</td>\n",
       "      <td>4/18/1933 19:00</td>\n",
       "    </tr>\n",
       "  </tbody>\n",
       "</table>\n",
       "</div>"
      ],
      "text/plain": [
       "     Number                  City Colors Reported Shape Reported State  \\\n",
       "0  123456.0                Ithaca             NaN       TRIANGLE    NY   \n",
       "1   54321.0           Willingboro           green            NaN    NJ   \n",
       "2   87654.0               Holyoke             NaN           OVAL    CO   \n",
       "3    3456.0               Abilene            blue           DISK    KS   \n",
       "4    7654.0  New York Worlds Fair             NaN          LIGHT    NY   \n",
       "\n",
       "              Time  \n",
       "0   6/1/1930 22:00  \n",
       "1  6/30/1930 20:00  \n",
       "2  2/15/1931 14:00  \n",
       "3   1/12/1900 0:00  \n",
       "4  4/18/1933 19:00  "
      ]
     },
     "execution_count": 7,
     "metadata": {},
     "output_type": "execute_result"
    }
   ],
   "source": [
    "Data = pd.read_csv('data.csv') # read the data\n",
    "Data.head()"
   ]
  },
  {
   "cell_type": "markdown",
   "id": "a85c1e04",
   "metadata": {},
   "source": [
    "Observe the data and see if you can recognise missing values or garbage values in the data\n",
    "\n",
    "Data type of missing values don't necessarily have to be np.nan\n",
    "\n",
    "Based on the context we often decide what should be a missing value and what qualifies as valid data"
   ]
  },
  {
   "cell_type": "markdown",
   "id": "f5119b1b",
   "metadata": {},
   "source": [
    "# Dealing with Duplicates in your data"
   ]
  },
  {
   "cell_type": "code",
   "execution_count": 8,
   "id": "3f91dfeb",
   "metadata": {},
   "outputs": [
    {
     "data": {
      "text/plain": [
       "13"
      ]
     },
     "execution_count": 8,
     "metadata": {},
     "output_type": "execute_result"
    }
   ],
   "source": [
    "##Identify duplicates records in the data\n",
    "dupes = Data.duplicated()\n",
    "sum(dupes)"
   ]
  },
  {
   "cell_type": "code",
   "execution_count": 9,
   "id": "1d1fd20a",
   "metadata": {},
   "outputs": [],
   "source": [
    "##here we can see that there are 13 duplicated rows. We want to remove the duplicate rows.\n",
    "\n",
    "#Removing Duplicates\n",
    "Data =Data.drop_duplicates()"
   ]
  },
  {
   "cell_type": "code",
   "execution_count": 10,
   "id": "abe100ea",
   "metadata": {},
   "outputs": [
    {
     "data": {
      "text/plain": [
       "0"
      ]
     },
     "execution_count": 10,
     "metadata": {},
     "output_type": "execute_result"
    }
   ],
   "source": [
    "#Now check the duplicate data again and you will see that there are no duplicate rows.\n",
    "dupes = Data.duplicated()\n",
    "sum(dupes)"
   ]
  },
  {
   "cell_type": "code",
   "execution_count": 11,
   "id": "5a23d3d5",
   "metadata": {},
   "outputs": [],
   "source": [
    "## Dealing with Missing Values in your data"
   ]
  },
  {
   "cell_type": "markdown",
   "id": "53282a84",
   "metadata": {},
   "source": [
    "## Standard Missing Values"
   ]
  },
  {
   "cell_type": "markdown",
   "id": "e38a5f6c",
   "metadata": {},
   "source": [
    "Going back to our original dataset, let’s take a look at the “Number” column."
   ]
  },
  {
   "cell_type": "code",
   "execution_count": 13,
   "id": "d7716529",
   "metadata": {},
   "outputs": [
    {
     "data": {
      "text/html": [
       "<div>\n",
       "<style scoped>\n",
       "    .dataframe tbody tr th:only-of-type {\n",
       "        vertical-align: middle;\n",
       "    }\n",
       "\n",
       "    .dataframe tbody tr th {\n",
       "        vertical-align: top;\n",
       "    }\n",
       "\n",
       "    .dataframe thead th {\n",
       "        text-align: right;\n",
       "    }\n",
       "</style>\n",
       "<table border=\"1\" class=\"dataframe\">\n",
       "  <thead>\n",
       "    <tr style=\"text-align: right;\">\n",
       "      <th></th>\n",
       "      <th>value</th>\n",
       "      <th>Missing?</th>\n",
       "    </tr>\n",
       "  </thead>\n",
       "  <tbody>\n",
       "    <tr>\n",
       "      <th>0</th>\n",
       "      <td>123456.0</td>\n",
       "      <td>False</td>\n",
       "    </tr>\n",
       "    <tr>\n",
       "      <th>1</th>\n",
       "      <td>54321.0</td>\n",
       "      <td>False</td>\n",
       "    </tr>\n",
       "    <tr>\n",
       "      <th>2</th>\n",
       "      <td>87654.0</td>\n",
       "      <td>False</td>\n",
       "    </tr>\n",
       "    <tr>\n",
       "      <th>3</th>\n",
       "      <td>3456.0</td>\n",
       "      <td>False</td>\n",
       "    </tr>\n",
       "    <tr>\n",
       "      <th>4</th>\n",
       "      <td>7654.0</td>\n",
       "      <td>False</td>\n",
       "    </tr>\n",
       "    <tr>\n",
       "      <th>5</th>\n",
       "      <td>NaN</td>\n",
       "      <td>True</td>\n",
       "    </tr>\n",
       "    <tr>\n",
       "      <th>6</th>\n",
       "      <td>87654.0</td>\n",
       "      <td>False</td>\n",
       "    </tr>\n",
       "    <tr>\n",
       "      <th>7</th>\n",
       "      <td>6789.0</td>\n",
       "      <td>False</td>\n",
       "    </tr>\n",
       "    <tr>\n",
       "      <th>8</th>\n",
       "      <td>NaN</td>\n",
       "      <td>True</td>\n",
       "    </tr>\n",
       "    <tr>\n",
       "      <th>9</th>\n",
       "      <td>4567.0</td>\n",
       "      <td>False</td>\n",
       "    </tr>\n",
       "    <tr>\n",
       "      <th>10</th>\n",
       "      <td>7654.0</td>\n",
       "      <td>False</td>\n",
       "    </tr>\n",
       "    <tr>\n",
       "      <th>11</th>\n",
       "      <td>NaN</td>\n",
       "      <td>True</td>\n",
       "    </tr>\n",
       "    <tr>\n",
       "      <th>12</th>\n",
       "      <td>6543.0</td>\n",
       "      <td>False</td>\n",
       "    </tr>\n",
       "    <tr>\n",
       "      <th>13</th>\n",
       "      <td>876.0</td>\n",
       "      <td>False</td>\n",
       "    </tr>\n",
       "    <tr>\n",
       "      <th>14</th>\n",
       "      <td>5432.0</td>\n",
       "      <td>False</td>\n",
       "    </tr>\n",
       "    <tr>\n",
       "      <th>19</th>\n",
       "      <td>6543.0</td>\n",
       "      <td>False</td>\n",
       "    </tr>\n",
       "    <tr>\n",
       "      <th>20</th>\n",
       "      <td>876.0</td>\n",
       "      <td>False</td>\n",
       "    </tr>\n",
       "    <tr>\n",
       "      <th>21</th>\n",
       "      <td>5432.0</td>\n",
       "      <td>False</td>\n",
       "    </tr>\n",
       "  </tbody>\n",
       "</table>\n",
       "</div>"
      ],
      "text/plain": [
       "       value  Missing?\n",
       "0   123456.0     False\n",
       "1    54321.0     False\n",
       "2    87654.0     False\n",
       "3     3456.0     False\n",
       "4     7654.0     False\n",
       "5        NaN      True\n",
       "6    87654.0     False\n",
       "7     6789.0     False\n",
       "8        NaN      True\n",
       "9     4567.0     False\n",
       "10    7654.0     False\n",
       "11       NaN      True\n",
       "12    6543.0     False\n",
       "13     876.0     False\n",
       "14    5432.0     False\n",
       "19    6543.0     False\n",
       "20     876.0     False\n",
       "21    5432.0     False"
      ]
     },
     "execution_count": 13,
     "metadata": {},
     "output_type": "execute_result"
    }
   ],
   "source": [
    "# What isnull() function recognises as missing value\n",
    "\n",
    "pd.DataFrame({'value' : Data['Number'], 'Missing?' : Data['Number'].isnull()}) "
   ]
  },
  {
   "cell_type": "code",
   "execution_count": 14,
   "id": "e61a19e0",
   "metadata": {},
   "outputs": [],
   "source": [
    "## 'NaN' is recognised as missing value"
   ]
  },
  {
   "cell_type": "markdown",
   "id": "7487597d",
   "metadata": {},
   "source": [
    "## Non-Standard Missing Values"
   ]
  },
  {
   "cell_type": "code",
   "execution_count": 16,
   "id": "3ba4cbb2",
   "metadata": {},
   "outputs": [
    {
     "data": {
      "text/html": [
       "<div>\n",
       "<style scoped>\n",
       "    .dataframe tbody tr th:only-of-type {\n",
       "        vertical-align: middle;\n",
       "    }\n",
       "\n",
       "    .dataframe tbody tr th {\n",
       "        vertical-align: top;\n",
       "    }\n",
       "\n",
       "    .dataframe thead th {\n",
       "        text-align: right;\n",
       "    }\n",
       "</style>\n",
       "<table border=\"1\" class=\"dataframe\">\n",
       "  <thead>\n",
       "    <tr style=\"text-align: right;\">\n",
       "      <th></th>\n",
       "      <th>value</th>\n",
       "      <th>Missing value?</th>\n",
       "    </tr>\n",
       "  </thead>\n",
       "  <tbody>\n",
       "    <tr>\n",
       "      <th>0</th>\n",
       "      <td>TRIANGLE</td>\n",
       "      <td>False</td>\n",
       "    </tr>\n",
       "    <tr>\n",
       "      <th>1</th>\n",
       "      <td>NaN</td>\n",
       "      <td>True</td>\n",
       "    </tr>\n",
       "    <tr>\n",
       "      <th>2</th>\n",
       "      <td>OVAL</td>\n",
       "      <td>False</td>\n",
       "    </tr>\n",
       "    <tr>\n",
       "      <th>3</th>\n",
       "      <td>DISK</td>\n",
       "      <td>False</td>\n",
       "    </tr>\n",
       "    <tr>\n",
       "      <th>4</th>\n",
       "      <td>LIGHT</td>\n",
       "      <td>False</td>\n",
       "    </tr>\n",
       "    <tr>\n",
       "      <th>5</th>\n",
       "      <td>NaN</td>\n",
       "      <td>True</td>\n",
       "    </tr>\n",
       "    <tr>\n",
       "      <th>6</th>\n",
       "      <td>CIRCLE</td>\n",
       "      <td>False</td>\n",
       "    </tr>\n",
       "    <tr>\n",
       "      <th>7</th>\n",
       "      <td>DISK</td>\n",
       "      <td>False</td>\n",
       "    </tr>\n",
       "    <tr>\n",
       "      <th>8</th>\n",
       "      <td>12</td>\n",
       "      <td>False</td>\n",
       "    </tr>\n",
       "    <tr>\n",
       "      <th>9</th>\n",
       "      <td>CYLINDER</td>\n",
       "      <td>False</td>\n",
       "    </tr>\n",
       "    <tr>\n",
       "      <th>10</th>\n",
       "      <td>LIGHT</td>\n",
       "      <td>False</td>\n",
       "    </tr>\n",
       "    <tr>\n",
       "      <th>11</th>\n",
       "      <td>FIREBALL</td>\n",
       "      <td>False</td>\n",
       "    </tr>\n",
       "    <tr>\n",
       "      <th>12</th>\n",
       "      <td>SPHERE</td>\n",
       "      <td>False</td>\n",
       "    </tr>\n",
       "    <tr>\n",
       "      <th>13</th>\n",
       "      <td>@</td>\n",
       "      <td>False</td>\n",
       "    </tr>\n",
       "    <tr>\n",
       "      <th>14</th>\n",
       "      <td>DISK</td>\n",
       "      <td>False</td>\n",
       "    </tr>\n",
       "    <tr>\n",
       "      <th>19</th>\n",
       "      <td>???</td>\n",
       "      <td>False</td>\n",
       "    </tr>\n",
       "    <tr>\n",
       "      <th>20</th>\n",
       "      <td>@</td>\n",
       "      <td>False</td>\n",
       "    </tr>\n",
       "    <tr>\n",
       "      <th>21</th>\n",
       "      <td>DISK</td>\n",
       "      <td>False</td>\n",
       "    </tr>\n",
       "  </tbody>\n",
       "</table>\n",
       "</div>"
      ],
      "text/plain": [
       "       value  Missing value?\n",
       "0   TRIANGLE           False\n",
       "1        NaN            True\n",
       "2       OVAL           False\n",
       "3       DISK           False\n",
       "4      LIGHT           False\n",
       "5        NaN            True\n",
       "6     CIRCLE           False\n",
       "7       DISK           False\n",
       "8         12           False\n",
       "9   CYLINDER           False\n",
       "10     LIGHT           False\n",
       "11  FIREBALL           False\n",
       "12    SPHERE           False\n",
       "13         @           False\n",
       "14      DISK           False\n",
       "19       ???           False\n",
       "20         @           False\n",
       "21      DISK           False"
      ]
     },
     "execution_count": 16,
     "metadata": {},
     "output_type": "execute_result"
    }
   ],
   "source": [
    "# What isnull() does not recognise as missing value\n",
    "\n",
    "pd.DataFrame({'value' : Data['Shape Reported'], 'Missing value?': Data['Shape Reported'].isnull()})"
   ]
  },
  {
   "cell_type": "markdown",
   "id": "8323f063",
   "metadata": {},
   "source": [
    "Only 'NaN' is recognised as missing value\n",
    "\n",
    "Depending on the context, we decide what should be a missing value"
   ]
  },
  {
   "cell_type": "markdown",
   "id": "30a27ecf",
   "metadata": {},
   "source": [
    "## Unexpected Missing Values"
   ]
  },
  {
   "cell_type": "code",
   "execution_count": 17,
   "id": "206705f4",
   "metadata": {},
   "outputs": [
    {
     "data": {
      "text/html": [
       "<div>\n",
       "<style scoped>\n",
       "    .dataframe tbody tr th:only-of-type {\n",
       "        vertical-align: middle;\n",
       "    }\n",
       "\n",
       "    .dataframe tbody tr th {\n",
       "        vertical-align: top;\n",
       "    }\n",
       "\n",
       "    .dataframe thead th {\n",
       "        text-align: right;\n",
       "    }\n",
       "</style>\n",
       "<table border=\"1\" class=\"dataframe\">\n",
       "  <thead>\n",
       "    <tr style=\"text-align: right;\">\n",
       "      <th></th>\n",
       "      <th>value</th>\n",
       "      <th>Missing?</th>\n",
       "    </tr>\n",
       "  </thead>\n",
       "  <tbody>\n",
       "    <tr>\n",
       "      <th>0</th>\n",
       "      <td>NY</td>\n",
       "      <td>False</td>\n",
       "    </tr>\n",
       "    <tr>\n",
       "      <th>1</th>\n",
       "      <td>NJ</td>\n",
       "      <td>False</td>\n",
       "    </tr>\n",
       "    <tr>\n",
       "      <th>2</th>\n",
       "      <td>CO</td>\n",
       "      <td>False</td>\n",
       "    </tr>\n",
       "    <tr>\n",
       "      <th>3</th>\n",
       "      <td>KS</td>\n",
       "      <td>False</td>\n",
       "    </tr>\n",
       "    <tr>\n",
       "      <th>4</th>\n",
       "      <td>NY</td>\n",
       "      <td>False</td>\n",
       "    </tr>\n",
       "    <tr>\n",
       "      <th>5</th>\n",
       "      <td>N</td>\n",
       "      <td>False</td>\n",
       "    </tr>\n",
       "    <tr>\n",
       "      <th>6</th>\n",
       "      <td>CA</td>\n",
       "      <td>False</td>\n",
       "    </tr>\n",
       "    <tr>\n",
       "      <th>7</th>\n",
       "      <td>MI</td>\n",
       "      <td>False</td>\n",
       "    </tr>\n",
       "    <tr>\n",
       "      <th>8</th>\n",
       "      <td>AK</td>\n",
       "      <td>False</td>\n",
       "    </tr>\n",
       "    <tr>\n",
       "      <th>9</th>\n",
       "      <td>NaN</td>\n",
       "      <td>True</td>\n",
       "    </tr>\n",
       "    <tr>\n",
       "      <th>10</th>\n",
       "      <td>CA</td>\n",
       "      <td>False</td>\n",
       "    </tr>\n",
       "    <tr>\n",
       "      <th>11</th>\n",
       "      <td>AL</td>\n",
       "      <td>False</td>\n",
       "    </tr>\n",
       "    <tr>\n",
       "      <th>12</th>\n",
       "      <td>Y</td>\n",
       "      <td>False</td>\n",
       "    </tr>\n",
       "    <tr>\n",
       "      <th>13</th>\n",
       "      <td>IA</td>\n",
       "      <td>False</td>\n",
       "    </tr>\n",
       "    <tr>\n",
       "      <th>14</th>\n",
       "      <td>MI</td>\n",
       "      <td>False</td>\n",
       "    </tr>\n",
       "    <tr>\n",
       "      <th>19</th>\n",
       "      <td>Y</td>\n",
       "      <td>False</td>\n",
       "    </tr>\n",
       "    <tr>\n",
       "      <th>20</th>\n",
       "      <td>IA</td>\n",
       "      <td>False</td>\n",
       "    </tr>\n",
       "    <tr>\n",
       "      <th>21</th>\n",
       "      <td>MI</td>\n",
       "      <td>False</td>\n",
       "    </tr>\n",
       "  </tbody>\n",
       "</table>\n",
       "</div>"
      ],
      "text/plain": [
       "   value  Missing?\n",
       "0     NY     False\n",
       "1     NJ     False\n",
       "2     CO     False\n",
       "3     KS     False\n",
       "4     NY     False\n",
       "5      N     False\n",
       "6     CA     False\n",
       "7     MI     False\n",
       "8     AK     False\n",
       "9    NaN      True\n",
       "10    CA     False\n",
       "11    AL     False\n",
       "12     Y     False\n",
       "13    IA     False\n",
       "14    MI     False\n",
       "19     Y     False\n",
       "20    IA     False\n",
       "21    MI     False"
      ]
     },
     "execution_count": 17,
     "metadata": {},
     "output_type": "execute_result"
    }
   ],
   "source": [
    "pd.DataFrame({'value': Data['State'], 'Missing?' : Data['State'].isnull()})"
   ]
  },
  {
   "cell_type": "markdown",
   "id": "8c8b8977",
   "metadata": {},
   "source": [
    "Because all the fields are names of states, 5th element and 12th element can be considered as garbage values"
   ]
  },
  {
   "cell_type": "code",
   "execution_count": 18,
   "id": "78538853",
   "metadata": {},
   "outputs": [
    {
     "data": {
      "text/html": [
       "<div>\n",
       "<style scoped>\n",
       "    .dataframe tbody tr th:only-of-type {\n",
       "        vertical-align: middle;\n",
       "    }\n",
       "\n",
       "    .dataframe tbody tr th {\n",
       "        vertical-align: top;\n",
       "    }\n",
       "\n",
       "    .dataframe thead th {\n",
       "        text-align: right;\n",
       "    }\n",
       "</style>\n",
       "<table border=\"1\" class=\"dataframe\">\n",
       "  <thead>\n",
       "    <tr style=\"text-align: right;\">\n",
       "      <th></th>\n",
       "      <th>Number of missing values</th>\n",
       "    </tr>\n",
       "  </thead>\n",
       "  <tbody>\n",
       "    <tr>\n",
       "      <th>Number</th>\n",
       "      <td>3</td>\n",
       "    </tr>\n",
       "    <tr>\n",
       "      <th>City</th>\n",
       "      <td>0</td>\n",
       "    </tr>\n",
       "    <tr>\n",
       "      <th>Colors Reported</th>\n",
       "      <td>9</td>\n",
       "    </tr>\n",
       "    <tr>\n",
       "      <th>Shape Reported</th>\n",
       "      <td>2</td>\n",
       "    </tr>\n",
       "    <tr>\n",
       "      <th>State</th>\n",
       "      <td>1</td>\n",
       "    </tr>\n",
       "    <tr>\n",
       "      <th>Time</th>\n",
       "      <td>0</td>\n",
       "    </tr>\n",
       "  </tbody>\n",
       "</table>\n",
       "</div>"
      ],
      "text/plain": [
       "                 Number of missing values\n",
       "Number                                  3\n",
       "City                                    0\n",
       "Colors Reported                         9\n",
       "Shape Reported                          2\n",
       "State                                   1\n",
       "Time                                    0"
      ]
     },
     "execution_count": 18,
     "metadata": {},
     "output_type": "execute_result"
    }
   ],
   "source": [
    "# number of missing values (only the ones recognised as missing values) in each of the attributes\n",
    "pd.DataFrame( Data.isnull().sum(), columns = ['Number of missing values'])"
   ]
  },
  {
   "cell_type": "markdown",
   "id": "37943805",
   "metadata": {},
   "source": [
    "# Any missing values ? "
   ]
  },
  {
   "cell_type": "code",
   "execution_count": 19,
   "id": "2dae3da5",
   "metadata": {},
   "outputs": [
    {
     "data": {
      "text/plain": [
       "True"
      ]
     },
     "execution_count": 19,
     "metadata": {},
     "output_type": "execute_result"
    }
   ],
   "source": [
    "Data.isnull().values.any() # Does any of the values in the datarame is a missing value"
   ]
  },
  {
   "cell_type": "markdown",
   "id": "e76f2485",
   "metadata": {},
   "source": [
    "# Total number of missings values"
   ]
  },
  {
   "cell_type": "code",
   "execution_count": 21,
   "id": "da6c8a75",
   "metadata": {},
   "outputs": [
    {
     "data": {
      "text/plain": [
       "15"
      ]
     },
     "execution_count": 21,
     "metadata": {},
     "output_type": "execute_result"
    }
   ],
   "source": [
    "Data.isnull().sum().sum() # Total number of recognised missing values in the entire dataframe"
   ]
  },
  {
   "cell_type": "markdown",
   "id": "0bca0616",
   "metadata": {},
   "source": [
    "# Replacing Missing Values"
   ]
  },
  {
   "cell_type": "markdown",
   "id": "5d7d6140",
   "metadata": {},
   "source": [
    "There are many values in which missing values can be replaced by different values which is often called as imputing missing values. It depends on your data and the problem you are trying to solve. In the below cell different types of missing value imputations are shown."
   ]
  },
  {
   "cell_type": "code",
   "execution_count": 23,
   "id": "251495a8",
   "metadata": {},
   "outputs": [
    {
     "data": {
      "text/html": [
       "<div>\n",
       "<style scoped>\n",
       "    .dataframe tbody tr th:only-of-type {\n",
       "        vertical-align: middle;\n",
       "    }\n",
       "\n",
       "    .dataframe tbody tr th {\n",
       "        vertical-align: top;\n",
       "    }\n",
       "\n",
       "    .dataframe thead th {\n",
       "        text-align: right;\n",
       "    }\n",
       "</style>\n",
       "<table border=\"1\" class=\"dataframe\">\n",
       "  <thead>\n",
       "    <tr style=\"text-align: right;\">\n",
       "      <th></th>\n",
       "      <th>Number</th>\n",
       "      <th>City</th>\n",
       "      <th>Colors Reported</th>\n",
       "      <th>Shape Reported</th>\n",
       "      <th>State</th>\n",
       "      <th>Time</th>\n",
       "    </tr>\n",
       "  </thead>\n",
       "  <tbody>\n",
       "    <tr>\n",
       "      <th>0</th>\n",
       "      <td>123456.0</td>\n",
       "      <td>Ithaca</td>\n",
       "      <td>NaN</td>\n",
       "      <td>TRIANGLE</td>\n",
       "      <td>NY</td>\n",
       "      <td>6/1/1930 22:00</td>\n",
       "    </tr>\n",
       "    <tr>\n",
       "      <th>1</th>\n",
       "      <td>54321.0</td>\n",
       "      <td>Willingboro</td>\n",
       "      <td>green</td>\n",
       "      <td>NaN</td>\n",
       "      <td>NJ</td>\n",
       "      <td>6/30/1930 20:00</td>\n",
       "    </tr>\n",
       "    <tr>\n",
       "      <th>2</th>\n",
       "      <td>87654.0</td>\n",
       "      <td>Holyoke</td>\n",
       "      <td>NaN</td>\n",
       "      <td>OVAL</td>\n",
       "      <td>CO</td>\n",
       "      <td>2/15/1931 14:00</td>\n",
       "    </tr>\n",
       "    <tr>\n",
       "      <th>3</th>\n",
       "      <td>3456.0</td>\n",
       "      <td>Abilene</td>\n",
       "      <td>blue</td>\n",
       "      <td>DISK</td>\n",
       "      <td>KS</td>\n",
       "      <td>1/12/1900 0:00</td>\n",
       "    </tr>\n",
       "    <tr>\n",
       "      <th>4</th>\n",
       "      <td>7654.0</td>\n",
       "      <td>New York Worlds Fair</td>\n",
       "      <td>NaN</td>\n",
       "      <td>LIGHT</td>\n",
       "      <td>NY</td>\n",
       "      <td>4/18/1933 19:00</td>\n",
       "    </tr>\n",
       "    <tr>\n",
       "      <th>5</th>\n",
       "      <td>12345.0</td>\n",
       "      <td>Valley City</td>\n",
       "      <td>NaN</td>\n",
       "      <td>NaN</td>\n",
       "      <td>N</td>\n",
       "      <td>9/15/1934 15:30</td>\n",
       "    </tr>\n",
       "    <tr>\n",
       "      <th>6</th>\n",
       "      <td>87654.0</td>\n",
       "      <td>Crater Lake</td>\n",
       "      <td>yellow</td>\n",
       "      <td>CIRCLE</td>\n",
       "      <td>CA</td>\n",
       "      <td>6/15/1935 0:00</td>\n",
       "    </tr>\n",
       "    <tr>\n",
       "      <th>7</th>\n",
       "      <td>6789.0</td>\n",
       "      <td>Alma</td>\n",
       "      <td>NaN</td>\n",
       "      <td>DISK</td>\n",
       "      <td>MI</td>\n",
       "      <td>7/15/1936 0:00</td>\n",
       "    </tr>\n",
       "    <tr>\n",
       "      <th>8</th>\n",
       "      <td>12345.0</td>\n",
       "      <td>Eklutna</td>\n",
       "      <td>green</td>\n",
       "      <td>12</td>\n",
       "      <td>AK</td>\n",
       "      <td>10/15/1936 17:00</td>\n",
       "    </tr>\n",
       "    <tr>\n",
       "      <th>9</th>\n",
       "      <td>4567.0</td>\n",
       "      <td>Hubbard</td>\n",
       "      <td>red</td>\n",
       "      <td>CYLINDER</td>\n",
       "      <td>NaN</td>\n",
       "      <td>6/15/1937 0:00</td>\n",
       "    </tr>\n",
       "    <tr>\n",
       "      <th>10</th>\n",
       "      <td>7654.0</td>\n",
       "      <td>Fontana</td>\n",
       "      <td>NaN</td>\n",
       "      <td>LIGHT</td>\n",
       "      <td>CA</td>\n",
       "      <td>8/15/1937 21:00</td>\n",
       "    </tr>\n",
       "    <tr>\n",
       "      <th>11</th>\n",
       "      <td>12345.0</td>\n",
       "      <td>Waterloo</td>\n",
       "      <td>NaN</td>\n",
       "      <td>FIREBALL</td>\n",
       "      <td>AL</td>\n",
       "      <td>6/1/1939 20:00</td>\n",
       "    </tr>\n",
       "    <tr>\n",
       "      <th>12</th>\n",
       "      <td>6543.0</td>\n",
       "      <td>Belton</td>\n",
       "      <td>red</td>\n",
       "      <td>SPHERE</td>\n",
       "      <td>Y</td>\n",
       "      <td>6/30/1939 20:00</td>\n",
       "    </tr>\n",
       "    <tr>\n",
       "      <th>13</th>\n",
       "      <td>876.0</td>\n",
       "      <td>Keokuk</td>\n",
       "      <td>NaN</td>\n",
       "      <td>@</td>\n",
       "      <td>IA</td>\n",
       "      <td>7/7/1939 2:00</td>\n",
       "    </tr>\n",
       "    <tr>\n",
       "      <th>14</th>\n",
       "      <td>5432.0</td>\n",
       "      <td>Ludington</td>\n",
       "      <td>NaN</td>\n",
       "      <td>DISK</td>\n",
       "      <td>MI</td>\n",
       "      <td>6/1/1941 13:00</td>\n",
       "    </tr>\n",
       "    <tr>\n",
       "      <th>19</th>\n",
       "      <td>6543.0</td>\n",
       "      <td>Belton</td>\n",
       "      <td>red</td>\n",
       "      <td>???</td>\n",
       "      <td>Y</td>\n",
       "      <td>6/30/1939 20:00</td>\n",
       "    </tr>\n",
       "    <tr>\n",
       "      <th>20</th>\n",
       "      <td>876.0</td>\n",
       "      <td>Keokuk</td>\n",
       "      <td>not known</td>\n",
       "      <td>@</td>\n",
       "      <td>IA</td>\n",
       "      <td>7/7/1939 2:00</td>\n",
       "    </tr>\n",
       "    <tr>\n",
       "      <th>21</th>\n",
       "      <td>5432.0</td>\n",
       "      <td>Ludington</td>\n",
       "      <td>*****</td>\n",
       "      <td>DISK</td>\n",
       "      <td>MI</td>\n",
       "      <td>6/1/1941 13:00</td>\n",
       "    </tr>\n",
       "  </tbody>\n",
       "</table>\n",
       "</div>"
      ],
      "text/plain": [
       "      Number                  City Colors Reported Shape Reported State  \\\n",
       "0   123456.0                Ithaca             NaN       TRIANGLE    NY   \n",
       "1    54321.0           Willingboro           green            NaN    NJ   \n",
       "2    87654.0               Holyoke             NaN           OVAL    CO   \n",
       "3     3456.0               Abilene            blue           DISK    KS   \n",
       "4     7654.0  New York Worlds Fair             NaN          LIGHT    NY   \n",
       "5    12345.0           Valley City             NaN            NaN     N   \n",
       "6    87654.0           Crater Lake          yellow         CIRCLE    CA   \n",
       "7     6789.0                  Alma             NaN           DISK    MI   \n",
       "8    12345.0               Eklutna           green             12    AK   \n",
       "9     4567.0               Hubbard             red       CYLINDER   NaN   \n",
       "10    7654.0               Fontana             NaN          LIGHT    CA   \n",
       "11   12345.0              Waterloo             NaN       FIREBALL    AL   \n",
       "12    6543.0                Belton             red         SPHERE     Y   \n",
       "13     876.0                Keokuk             NaN              @    IA   \n",
       "14    5432.0             Ludington             NaN           DISK    MI   \n",
       "19    6543.0                Belton             red            ???     Y   \n",
       "20     876.0                Keokuk       not known              @    IA   \n",
       "21    5432.0             Ludington           *****           DISK    MI   \n",
       "\n",
       "                Time  \n",
       "0     6/1/1930 22:00  \n",
       "1    6/30/1930 20:00  \n",
       "2    2/15/1931 14:00  \n",
       "3     1/12/1900 0:00  \n",
       "4    4/18/1933 19:00  \n",
       "5    9/15/1934 15:30  \n",
       "6     6/15/1935 0:00  \n",
       "7     7/15/1936 0:00  \n",
       "8   10/15/1936 17:00  \n",
       "9     6/15/1937 0:00  \n",
       "10   8/15/1937 21:00  \n",
       "11    6/1/1939 20:00  \n",
       "12   6/30/1939 20:00  \n",
       "13     7/7/1939 2:00  \n",
       "14    6/1/1941 13:00  \n",
       "19   6/30/1939 20:00  \n",
       "20     7/7/1939 2:00  \n",
       "21    6/1/1941 13:00  "
      ]
     },
     "execution_count": 23,
     "metadata": {},
     "output_type": "execute_result"
    }
   ],
   "source": [
    "# Replacing NaN with a custom value\n",
    "Data['Number'].fillna(12345, inplace = True)\n",
    "\n",
    "# Replace NaN values with the mean of the column\n",
    "# Data['Number'].fillna(Data.Number.mean(), inplace = True)\n",
    "\n",
    "# Replace NaN values with the median of the column\n",
    "# Data['Number'].fillna(Data.Number.median(), inplace = True)\n",
    "\n",
    "Data"
   ]
  },
  {
   "cell_type": "markdown",
   "id": "83553ad9",
   "metadata": {},
   "source": [
    "# Location based replacement"
   ]
  },
  {
   "cell_type": "code",
   "execution_count": 24,
   "id": "3bc9acbc",
   "metadata": {},
   "outputs": [
    {
     "data": {
      "text/html": [
       "<div>\n",
       "<style scoped>\n",
       "    .dataframe tbody tr th:only-of-type {\n",
       "        vertical-align: middle;\n",
       "    }\n",
       "\n",
       "    .dataframe tbody tr th {\n",
       "        vertical-align: top;\n",
       "    }\n",
       "\n",
       "    .dataframe thead th {\n",
       "        text-align: right;\n",
       "    }\n",
       "</style>\n",
       "<table border=\"1\" class=\"dataframe\">\n",
       "  <thead>\n",
       "    <tr style=\"text-align: right;\">\n",
       "      <th></th>\n",
       "      <th>Number</th>\n",
       "      <th>City</th>\n",
       "      <th>Colors Reported</th>\n",
       "      <th>Shape Reported</th>\n",
       "      <th>State</th>\n",
       "      <th>Time</th>\n",
       "    </tr>\n",
       "  </thead>\n",
       "  <tbody>\n",
       "    <tr>\n",
       "      <th>0</th>\n",
       "      <td>123456.0</td>\n",
       "      <td>Ithaca</td>\n",
       "      <td>NaN</td>\n",
       "      <td>TRIANGLE</td>\n",
       "      <td>NY</td>\n",
       "      <td>6/1/1930 22:00</td>\n",
       "    </tr>\n",
       "    <tr>\n",
       "      <th>1</th>\n",
       "      <td>54321.0</td>\n",
       "      <td>Willingboro</td>\n",
       "      <td>green</td>\n",
       "      <td>NaN</td>\n",
       "      <td>NJ</td>\n",
       "      <td>6/30/1930 20:00</td>\n",
       "    </tr>\n",
       "    <tr>\n",
       "      <th>2</th>\n",
       "      <td>1234.0</td>\n",
       "      <td>Holyoke</td>\n",
       "      <td>NaN</td>\n",
       "      <td>OVAL</td>\n",
       "      <td>CO</td>\n",
       "      <td>2/15/1931 14:00</td>\n",
       "    </tr>\n",
       "    <tr>\n",
       "      <th>3</th>\n",
       "      <td>3456.0</td>\n",
       "      <td>Abilene</td>\n",
       "      <td>blue</td>\n",
       "      <td>DISK</td>\n",
       "      <td>KS</td>\n",
       "      <td>1/12/1900 0:00</td>\n",
       "    </tr>\n",
       "    <tr>\n",
       "      <th>4</th>\n",
       "      <td>7654.0</td>\n",
       "      <td>New York Worlds Fair</td>\n",
       "      <td>NaN</td>\n",
       "      <td>LIGHT</td>\n",
       "      <td>NY</td>\n",
       "      <td>4/18/1933 19:00</td>\n",
       "    </tr>\n",
       "    <tr>\n",
       "      <th>5</th>\n",
       "      <td>12345.0</td>\n",
       "      <td>Valley City</td>\n",
       "      <td>NaN</td>\n",
       "      <td>NaN</td>\n",
       "      <td>N</td>\n",
       "      <td>9/15/1934 15:30</td>\n",
       "    </tr>\n",
       "    <tr>\n",
       "      <th>6</th>\n",
       "      <td>87654.0</td>\n",
       "      <td>Crater Lake</td>\n",
       "      <td>yellow</td>\n",
       "      <td>CIRCLE</td>\n",
       "      <td>CA</td>\n",
       "      <td>6/15/1935 0:00</td>\n",
       "    </tr>\n",
       "    <tr>\n",
       "      <th>7</th>\n",
       "      <td>6789.0</td>\n",
       "      <td>Alma</td>\n",
       "      <td>NaN</td>\n",
       "      <td>DISK</td>\n",
       "      <td>MI</td>\n",
       "      <td>7/15/1936 0:00</td>\n",
       "    </tr>\n",
       "    <tr>\n",
       "      <th>8</th>\n",
       "      <td>12345.0</td>\n",
       "      <td>Eklutna</td>\n",
       "      <td>green</td>\n",
       "      <td>12</td>\n",
       "      <td>AK</td>\n",
       "      <td>10/15/1936 17:00</td>\n",
       "    </tr>\n",
       "    <tr>\n",
       "      <th>9</th>\n",
       "      <td>4567.0</td>\n",
       "      <td>Hubbard</td>\n",
       "      <td>red</td>\n",
       "      <td>CYLINDER</td>\n",
       "      <td>NaN</td>\n",
       "      <td>6/15/1937 0:00</td>\n",
       "    </tr>\n",
       "    <tr>\n",
       "      <th>10</th>\n",
       "      <td>7654.0</td>\n",
       "      <td>Fontana</td>\n",
       "      <td>NaN</td>\n",
       "      <td>LIGHT</td>\n",
       "      <td>CA</td>\n",
       "      <td>8/15/1937 21:00</td>\n",
       "    </tr>\n",
       "    <tr>\n",
       "      <th>11</th>\n",
       "      <td>12345.0</td>\n",
       "      <td>Waterloo</td>\n",
       "      <td>NaN</td>\n",
       "      <td>FIREBALL</td>\n",
       "      <td>AL</td>\n",
       "      <td>6/1/1939 20:00</td>\n",
       "    </tr>\n",
       "    <tr>\n",
       "      <th>12</th>\n",
       "      <td>6543.0</td>\n",
       "      <td>Belton</td>\n",
       "      <td>red</td>\n",
       "      <td>SPHERE</td>\n",
       "      <td>Y</td>\n",
       "      <td>6/30/1939 20:00</td>\n",
       "    </tr>\n",
       "    <tr>\n",
       "      <th>13</th>\n",
       "      <td>876.0</td>\n",
       "      <td>Keokuk</td>\n",
       "      <td>NaN</td>\n",
       "      <td>@</td>\n",
       "      <td>IA</td>\n",
       "      <td>7/7/1939 2:00</td>\n",
       "    </tr>\n",
       "    <tr>\n",
       "      <th>14</th>\n",
       "      <td>5432.0</td>\n",
       "      <td>Ludington</td>\n",
       "      <td>NaN</td>\n",
       "      <td>DISK</td>\n",
       "      <td>MI</td>\n",
       "      <td>6/1/1941 13:00</td>\n",
       "    </tr>\n",
       "    <tr>\n",
       "      <th>19</th>\n",
       "      <td>6543.0</td>\n",
       "      <td>Belton</td>\n",
       "      <td>red</td>\n",
       "      <td>???</td>\n",
       "      <td>Y</td>\n",
       "      <td>6/30/1939 20:00</td>\n",
       "    </tr>\n",
       "    <tr>\n",
       "      <th>20</th>\n",
       "      <td>876.0</td>\n",
       "      <td>Keokuk</td>\n",
       "      <td>not known</td>\n",
       "      <td>@</td>\n",
       "      <td>IA</td>\n",
       "      <td>7/7/1939 2:00</td>\n",
       "    </tr>\n",
       "    <tr>\n",
       "      <th>21</th>\n",
       "      <td>5432.0</td>\n",
       "      <td>Ludington</td>\n",
       "      <td>*****</td>\n",
       "      <td>DISK</td>\n",
       "      <td>MI</td>\n",
       "      <td>6/1/1941 13:00</td>\n",
       "    </tr>\n",
       "  </tbody>\n",
       "</table>\n",
       "</div>"
      ],
      "text/plain": [
       "      Number                  City Colors Reported Shape Reported State  \\\n",
       "0   123456.0                Ithaca             NaN       TRIANGLE    NY   \n",
       "1    54321.0           Willingboro           green            NaN    NJ   \n",
       "2     1234.0               Holyoke             NaN           OVAL    CO   \n",
       "3     3456.0               Abilene            blue           DISK    KS   \n",
       "4     7654.0  New York Worlds Fair             NaN          LIGHT    NY   \n",
       "5    12345.0           Valley City             NaN            NaN     N   \n",
       "6    87654.0           Crater Lake          yellow         CIRCLE    CA   \n",
       "7     6789.0                  Alma             NaN           DISK    MI   \n",
       "8    12345.0               Eklutna           green             12    AK   \n",
       "9     4567.0               Hubbard             red       CYLINDER   NaN   \n",
       "10    7654.0               Fontana             NaN          LIGHT    CA   \n",
       "11   12345.0              Waterloo             NaN       FIREBALL    AL   \n",
       "12    6543.0                Belton             red         SPHERE     Y   \n",
       "13     876.0                Keokuk             NaN              @    IA   \n",
       "14    5432.0             Ludington             NaN           DISK    MI   \n",
       "19    6543.0                Belton             red            ???     Y   \n",
       "20     876.0                Keokuk       not known              @    IA   \n",
       "21    5432.0             Ludington           *****           DISK    MI   \n",
       "\n",
       "                Time  \n",
       "0     6/1/1930 22:00  \n",
       "1    6/30/1930 20:00  \n",
       "2    2/15/1931 14:00  \n",
       "3     1/12/1900 0:00  \n",
       "4    4/18/1933 19:00  \n",
       "5    9/15/1934 15:30  \n",
       "6     6/15/1935 0:00  \n",
       "7     7/15/1936 0:00  \n",
       "8   10/15/1936 17:00  \n",
       "9     6/15/1937 0:00  \n",
       "10   8/15/1937 21:00  \n",
       "11    6/1/1939 20:00  \n",
       "12   6/30/1939 20:00  \n",
       "13     7/7/1939 2:00  \n",
       "14    6/1/1941 13:00  \n",
       "19   6/30/1939 20:00  \n",
       "20     7/7/1939 2:00  \n",
       "21    6/1/1941 13:00  "
      ]
     },
     "execution_count": 24,
     "metadata": {},
     "output_type": "execute_result"
    }
   ],
   "source": [
    "Data.loc[2, 'Number'] = 1234 # replace a value at a specific location\n",
    "Data"
   ]
  },
  {
   "cell_type": "markdown",
   "id": "67b72c95",
   "metadata": {},
   "source": [
    "## Droping Rows with Missing Values"
   ]
  },
  {
   "cell_type": "code",
   "execution_count": 25,
   "id": "dd2ee848",
   "metadata": {},
   "outputs": [
    {
     "data": {
      "text/plain": [
       "Number             0\n",
       "City               0\n",
       "Colors Reported    0\n",
       "Shape Reported     0\n",
       "State              0\n",
       "Time               0\n",
       "dtype: int64"
      ]
     },
     "execution_count": 25,
     "metadata": {},
     "output_type": "execute_result"
    }
   ],
   "source": [
    "Data.dropna(inplace=True)  # Drops all the rows that have atleast one missing values\n",
    "Data.isnull().sum()"
   ]
  },
  {
   "cell_type": "code",
   "execution_count": 26,
   "id": "164fbf5d",
   "metadata": {},
   "outputs": [
    {
     "data": {
      "text/html": [
       "<div>\n",
       "<style scoped>\n",
       "    .dataframe tbody tr th:only-of-type {\n",
       "        vertical-align: middle;\n",
       "    }\n",
       "\n",
       "    .dataframe tbody tr th {\n",
       "        vertical-align: top;\n",
       "    }\n",
       "\n",
       "    .dataframe thead th {\n",
       "        text-align: right;\n",
       "    }\n",
       "</style>\n",
       "<table border=\"1\" class=\"dataframe\">\n",
       "  <thead>\n",
       "    <tr style=\"text-align: right;\">\n",
       "      <th></th>\n",
       "      <th>Number</th>\n",
       "      <th>City</th>\n",
       "      <th>Colors Reported</th>\n",
       "      <th>Shape Reported</th>\n",
       "      <th>State</th>\n",
       "      <th>Time</th>\n",
       "    </tr>\n",
       "  </thead>\n",
       "  <tbody>\n",
       "    <tr>\n",
       "      <th>3</th>\n",
       "      <td>3456.0</td>\n",
       "      <td>Abilene</td>\n",
       "      <td>blue</td>\n",
       "      <td>DISK</td>\n",
       "      <td>KS</td>\n",
       "      <td>1/12/1900 0:00</td>\n",
       "    </tr>\n",
       "    <tr>\n",
       "      <th>6</th>\n",
       "      <td>87654.0</td>\n",
       "      <td>Crater Lake</td>\n",
       "      <td>yellow</td>\n",
       "      <td>CIRCLE</td>\n",
       "      <td>CA</td>\n",
       "      <td>6/15/1935 0:00</td>\n",
       "    </tr>\n",
       "    <tr>\n",
       "      <th>8</th>\n",
       "      <td>12345.0</td>\n",
       "      <td>Eklutna</td>\n",
       "      <td>green</td>\n",
       "      <td>12</td>\n",
       "      <td>AK</td>\n",
       "      <td>10/15/1936 17:00</td>\n",
       "    </tr>\n",
       "    <tr>\n",
       "      <th>12</th>\n",
       "      <td>6543.0</td>\n",
       "      <td>Belton</td>\n",
       "      <td>red</td>\n",
       "      <td>SPHERE</td>\n",
       "      <td>Y</td>\n",
       "      <td>6/30/1939 20:00</td>\n",
       "    </tr>\n",
       "    <tr>\n",
       "      <th>19</th>\n",
       "      <td>6543.0</td>\n",
       "      <td>Belton</td>\n",
       "      <td>red</td>\n",
       "      <td>???</td>\n",
       "      <td>Y</td>\n",
       "      <td>6/30/1939 20:00</td>\n",
       "    </tr>\n",
       "    <tr>\n",
       "      <th>20</th>\n",
       "      <td>876.0</td>\n",
       "      <td>Keokuk</td>\n",
       "      <td>not known</td>\n",
       "      <td>@</td>\n",
       "      <td>IA</td>\n",
       "      <td>7/7/1939 2:00</td>\n",
       "    </tr>\n",
       "    <tr>\n",
       "      <th>21</th>\n",
       "      <td>5432.0</td>\n",
       "      <td>Ludington</td>\n",
       "      <td>*****</td>\n",
       "      <td>DISK</td>\n",
       "      <td>MI</td>\n",
       "      <td>6/1/1941 13:00</td>\n",
       "    </tr>\n",
       "  </tbody>\n",
       "</table>\n",
       "</div>"
      ],
      "text/plain": [
       "     Number         City Colors Reported Shape Reported State  \\\n",
       "3    3456.0      Abilene            blue           DISK    KS   \n",
       "6   87654.0  Crater Lake          yellow         CIRCLE    CA   \n",
       "8   12345.0      Eklutna           green             12    AK   \n",
       "12   6543.0       Belton             red         SPHERE     Y   \n",
       "19   6543.0       Belton             red            ???     Y   \n",
       "20    876.0       Keokuk       not known              @    IA   \n",
       "21   5432.0    Ludington           *****           DISK    MI   \n",
       "\n",
       "                Time  \n",
       "3     1/12/1900 0:00  \n",
       "6     6/15/1935 0:00  \n",
       "8   10/15/1936 17:00  \n",
       "12   6/30/1939 20:00  \n",
       "19   6/30/1939 20:00  \n",
       "20     7/7/1939 2:00  \n",
       "21    6/1/1941 13:00  "
      ]
     },
     "execution_count": 26,
     "metadata": {},
     "output_type": "execute_result"
    }
   ],
   "source": [
    "Data"
   ]
  },
  {
   "cell_type": "markdown",
   "id": "bd7c3521",
   "metadata": {},
   "source": [
    "Getting rid of rows with missing values is the easiest way of dealing with their presence\n",
    "\n",
    "But the downside is that we lose valid data from other columns which do not have missing values for that particular row"
   ]
  },
  {
   "cell_type": "markdown",
   "id": "ee8b9b3b",
   "metadata": {},
   "source": [
    "## Dealing with incorrect or unwanted observations"
   ]
  },
  {
   "cell_type": "code",
   "execution_count": 27,
   "id": "701e010c",
   "metadata": {},
   "outputs": [
    {
     "data": {
      "text/html": [
       "<div>\n",
       "<style scoped>\n",
       "    .dataframe tbody tr th:only-of-type {\n",
       "        vertical-align: middle;\n",
       "    }\n",
       "\n",
       "    .dataframe tbody tr th {\n",
       "        vertical-align: top;\n",
       "    }\n",
       "\n",
       "    .dataframe thead th {\n",
       "        text-align: right;\n",
       "    }\n",
       "</style>\n",
       "<table border=\"1\" class=\"dataframe\">\n",
       "  <thead>\n",
       "    <tr style=\"text-align: right;\">\n",
       "      <th></th>\n",
       "      <th>Number</th>\n",
       "      <th>City</th>\n",
       "      <th>Colors Reported</th>\n",
       "      <th>Shape Reported</th>\n",
       "      <th>State</th>\n",
       "      <th>Time</th>\n",
       "    </tr>\n",
       "  </thead>\n",
       "  <tbody>\n",
       "    <tr>\n",
       "      <th>8</th>\n",
       "      <td>12345.0</td>\n",
       "      <td>Eklutna</td>\n",
       "      <td>green</td>\n",
       "      <td>12</td>\n",
       "      <td>AK</td>\n",
       "      <td>10/15/1936 17:00</td>\n",
       "    </tr>\n",
       "    <tr>\n",
       "      <th>12</th>\n",
       "      <td>6543.0</td>\n",
       "      <td>Belton</td>\n",
       "      <td>red</td>\n",
       "      <td>SPHERE</td>\n",
       "      <td>Y</td>\n",
       "      <td>6/30/1939 20:00</td>\n",
       "    </tr>\n",
       "    <tr>\n",
       "      <th>19</th>\n",
       "      <td>6543.0</td>\n",
       "      <td>Belton</td>\n",
       "      <td>red</td>\n",
       "      <td>???</td>\n",
       "      <td>Y</td>\n",
       "      <td>6/30/1939 20:00</td>\n",
       "    </tr>\n",
       "    <tr>\n",
       "      <th>20</th>\n",
       "      <td>876.0</td>\n",
       "      <td>Keokuk</td>\n",
       "      <td>not known</td>\n",
       "      <td>@</td>\n",
       "      <td>IA</td>\n",
       "      <td>7/7/1939 2:00</td>\n",
       "    </tr>\n",
       "    <tr>\n",
       "      <th>21</th>\n",
       "      <td>5432.0</td>\n",
       "      <td>Ludington</td>\n",
       "      <td>*****</td>\n",
       "      <td>DISK</td>\n",
       "      <td>MI</td>\n",
       "      <td>6/1/1941 13:00</td>\n",
       "    </tr>\n",
       "  </tbody>\n",
       "</table>\n",
       "</div>"
      ],
      "text/plain": [
       "     Number       City Colors Reported Shape Reported State              Time\n",
       "8   12345.0    Eklutna           green             12    AK  10/15/1936 17:00\n",
       "12   6543.0     Belton             red         SPHERE     Y   6/30/1939 20:00\n",
       "19   6543.0     Belton             red            ???     Y   6/30/1939 20:00\n",
       "20    876.0     Keokuk       not known              @    IA     7/7/1939 2:00\n",
       "21   5432.0  Ludington           *****           DISK    MI    6/1/1941 13:00"
      ]
     },
     "execution_count": 27,
     "metadata": {},
     "output_type": "execute_result"
    }
   ],
   "source": [
    "Data.tail()"
   ]
  },
  {
   "cell_type": "markdown",
   "id": "9792a177",
   "metadata": {},
   "source": [
    "Here you can see some incorrect and currupted values like **** and @ in your data. You need to look for such values manually sometime and you can also use summary stats or plots to find such values."
   ]
  },
  {
   "cell_type": "markdown",
   "id": "59337495",
   "metadata": {},
   "source": [
    "## These values can be modified based on the problem you are trying to solve and what is required for your case."
   ]
  },
  {
   "cell_type": "markdown",
   "id": "e4f59f76",
   "metadata": {},
   "source": [
    "Here we can say that **** value can be replaced by null or most common color value and @ is also like a null value which can be imputed based on the methods shown above."
   ]
  },
  {
   "cell_type": "code",
   "execution_count": 29,
   "id": "0ba649d2",
   "metadata": {},
   "outputs": [],
   "source": [
    "## Try modifying these incorrect values based on our case."
   ]
  },
  {
   "cell_type": "markdown",
   "id": "ad888b4a",
   "metadata": {},
   "source": [
    "## Dealing with Outliers"
   ]
  },
  {
   "cell_type": "markdown",
   "id": "7fb7b357",
   "metadata": {},
   "source": [
    "In the part given below we will discuss about outliers in a dataset.\n",
    "\n"
   ]
  },
  {
   "cell_type": "markdown",
   "id": "30dae872",
   "metadata": {},
   "source": [
    "## About DataSet :"
   ]
  },
  {
   "cell_type": "markdown",
   "id": "68af404b",
   "metadata": {},
   "source": [
    "We will be using Boston House Pricing Dataset which is included in the sklearn dataset API. We will load the dataset and separate out the features and targets."
   ]
  },
  {
   "cell_type": "code",
   "execution_count": 30,
   "id": "bf6b7116",
   "metadata": {},
   "outputs": [],
   "source": [
    "# Importing the library:"
   ]
  },
  {
   "cell_type": "code",
   "execution_count": 62,
   "id": "b54b8b08",
   "metadata": {},
   "outputs": [],
   "source": [
    "#import load_boston\n"
   ]
  },
  {
   "cell_type": "code",
   "execution_count": 63,
   "id": "3f1653bd",
   "metadata": {},
   "outputs": [],
   "source": [
    "#raw_df.head()"
   ]
  },
  {
   "cell_type": "code",
   "execution_count": 76,
   "id": "8d9e58f2",
   "metadata": {},
   "outputs": [],
   "source": [
    "import pandas as pd\n",
    "import numpy as np\n",
    "\n",
    "\n",
    "boston_df = pd.read_csv(\"boston_house_prices.csv\")\n"
   ]
  },
  {
   "cell_type": "code",
   "execution_count": 77,
   "id": "0e250432",
   "metadata": {
    "scrolled": false
   },
   "outputs": [
    {
     "data": {
      "text/html": [
       "<div>\n",
       "<style scoped>\n",
       "    .dataframe tbody tr th:only-of-type {\n",
       "        vertical-align: middle;\n",
       "    }\n",
       "\n",
       "    .dataframe tbody tr th {\n",
       "        vertical-align: top;\n",
       "    }\n",
       "\n",
       "    .dataframe thead th {\n",
       "        text-align: right;\n",
       "    }\n",
       "</style>\n",
       "<table border=\"1\" class=\"dataframe\">\n",
       "  <thead>\n",
       "    <tr style=\"text-align: right;\">\n",
       "      <th></th>\n",
       "      <th>506</th>\n",
       "      <th>13</th>\n",
       "      <th>Unnamed: 2</th>\n",
       "      <th>Unnamed: 3</th>\n",
       "      <th>Unnamed: 4</th>\n",
       "      <th>Unnamed: 5</th>\n",
       "      <th>Unnamed: 6</th>\n",
       "      <th>Unnamed: 7</th>\n",
       "      <th>Unnamed: 8</th>\n",
       "      <th>Unnamed: 9</th>\n",
       "      <th>Unnamed: 10</th>\n",
       "      <th>Unnamed: 11</th>\n",
       "      <th>Unnamed: 12</th>\n",
       "      <th>Unnamed: 13</th>\n",
       "    </tr>\n",
       "  </thead>\n",
       "  <tbody>\n",
       "    <tr>\n",
       "      <th>0</th>\n",
       "      <td>CRIM</td>\n",
       "      <td>ZN</td>\n",
       "      <td>INDUS</td>\n",
       "      <td>CHAS</td>\n",
       "      <td>NOX</td>\n",
       "      <td>RM</td>\n",
       "      <td>AGE</td>\n",
       "      <td>DIS</td>\n",
       "      <td>RAD</td>\n",
       "      <td>TAX</td>\n",
       "      <td>PTRATIO</td>\n",
       "      <td>B</td>\n",
       "      <td>LSTAT</td>\n",
       "      <td>PRICE</td>\n",
       "    </tr>\n",
       "    <tr>\n",
       "      <th>1</th>\n",
       "      <td>0.00632</td>\n",
       "      <td>18</td>\n",
       "      <td>2.31</td>\n",
       "      <td>0</td>\n",
       "      <td>0.538</td>\n",
       "      <td>6.575</td>\n",
       "      <td>65.2</td>\n",
       "      <td>4.09</td>\n",
       "      <td>1</td>\n",
       "      <td>296</td>\n",
       "      <td>15.3</td>\n",
       "      <td>396.9</td>\n",
       "      <td>4.98</td>\n",
       "      <td>24</td>\n",
       "    </tr>\n",
       "    <tr>\n",
       "      <th>2</th>\n",
       "      <td>0.02731</td>\n",
       "      <td>0</td>\n",
       "      <td>7.07</td>\n",
       "      <td>0</td>\n",
       "      <td>0.469</td>\n",
       "      <td>6.421</td>\n",
       "      <td>78.9</td>\n",
       "      <td>4.9671</td>\n",
       "      <td>2</td>\n",
       "      <td>242</td>\n",
       "      <td>17.8</td>\n",
       "      <td>396.9</td>\n",
       "      <td>9.14</td>\n",
       "      <td>21.6</td>\n",
       "    </tr>\n",
       "    <tr>\n",
       "      <th>3</th>\n",
       "      <td>0.02729</td>\n",
       "      <td>0</td>\n",
       "      <td>7.07</td>\n",
       "      <td>0</td>\n",
       "      <td>0.469</td>\n",
       "      <td>7.185</td>\n",
       "      <td>61.1</td>\n",
       "      <td>4.9671</td>\n",
       "      <td>2</td>\n",
       "      <td>242</td>\n",
       "      <td>17.8</td>\n",
       "      <td>392.83</td>\n",
       "      <td>4.03</td>\n",
       "      <td>34.7</td>\n",
       "    </tr>\n",
       "    <tr>\n",
       "      <th>4</th>\n",
       "      <td>0.03237</td>\n",
       "      <td>0</td>\n",
       "      <td>2.18</td>\n",
       "      <td>0</td>\n",
       "      <td>0.458</td>\n",
       "      <td>6.998</td>\n",
       "      <td>45.8</td>\n",
       "      <td>6.0622</td>\n",
       "      <td>3</td>\n",
       "      <td>222</td>\n",
       "      <td>18.7</td>\n",
       "      <td>394.63</td>\n",
       "      <td>2.94</td>\n",
       "      <td>33.4</td>\n",
       "    </tr>\n",
       "  </tbody>\n",
       "</table>\n",
       "</div>"
      ],
      "text/plain": [
       "       506  13 Unnamed: 2 Unnamed: 3 Unnamed: 4 Unnamed: 5 Unnamed: 6  \\\n",
       "0     CRIM  ZN      INDUS       CHAS        NOX         RM        AGE   \n",
       "1  0.00632  18       2.31          0      0.538      6.575       65.2   \n",
       "2  0.02731   0       7.07          0      0.469      6.421       78.9   \n",
       "3  0.02729   0       7.07          0      0.469      7.185       61.1   \n",
       "4  0.03237   0       2.18          0      0.458      6.998       45.8   \n",
       "\n",
       "  Unnamed: 7 Unnamed: 8 Unnamed: 9 Unnamed: 10 Unnamed: 11 Unnamed: 12  \\\n",
       "0        DIS        RAD        TAX     PTRATIO           B       LSTAT   \n",
       "1       4.09          1        296        15.3       396.9        4.98   \n",
       "2     4.9671          2        242        17.8       396.9        9.14   \n",
       "3     4.9671          2        242        17.8      392.83        4.03   \n",
       "4     6.0622          3        222        18.7      394.63        2.94   \n",
       "\n",
       "  Unnamed: 13  \n",
       "0       PRICE  \n",
       "1          24  \n",
       "2        21.6  \n",
       "3        34.7  \n",
       "4        33.4  "
      ]
     },
     "execution_count": 77,
     "metadata": {},
     "output_type": "execute_result"
    }
   ],
   "source": [
    " boston_df.head()"
   ]
  },
  {
   "cell_type": "code",
   "execution_count": 79,
   "id": "be46d97a",
   "metadata": {},
   "outputs": [
    {
     "name": "stdout",
     "output_type": "stream",
     "text": [
      "0    INDUS CHAS    NOX     RM   AGE     DIS RAD  TAX PTRATIO       B LSTAT  \\\n",
      "0     2.31    0  0.538  6.575  65.2    4.09   1  296    15.3   396.9  4.98   \n",
      "1     7.07    0  0.469  6.421  78.9  4.9671   2  242    17.8   396.9  9.14   \n",
      "2     7.07    0  0.469  7.185  61.1  4.9671   2  242    17.8  392.83  4.03   \n",
      "3     2.18    0  0.458  6.998  45.8  6.0622   3  222    18.7  394.63  2.94   \n",
      "4     2.18    0  0.458  7.147  54.2  6.0622   3  222    18.7   396.9  5.33   \n",
      "..     ...  ...    ...    ...   ...     ...  ..  ...     ...     ...   ...   \n",
      "501  11.93    0  0.573  6.593  69.1  2.4786   1  273      21  391.99  9.67   \n",
      "502  11.93    0  0.573   6.12  76.7  2.2875   1  273      21   396.9  9.08   \n",
      "503  11.93    0  0.573  6.976    91  2.1675   1  273      21   396.9  5.64   \n",
      "504  11.93    0  0.573  6.794  89.3  2.3889   1  273      21  393.45  6.48   \n",
      "505  11.93    0  0.573   6.03  80.8   2.505   1  273      21   396.9  7.88   \n",
      "\n",
      "0   PRICE  \n",
      "0      24  \n",
      "1    21.6  \n",
      "2    34.7  \n",
      "3    33.4  \n",
      "4    36.2  \n",
      "..    ...  \n",
      "501  22.4  \n",
      "502  20.6  \n",
      "503  23.9  \n",
      "504    22  \n",
      "505  11.9  \n",
      "\n",
      "[506 rows x 12 columns]\n"
     ]
    }
   ],
   "source": [
    "\n",
    "\n",
    "\n",
    "# Assuming df is your DataFrame containing the dataset\n",
    "# Replace df with the name of your DataFrame\n",
    "\n",
    "# Remove the first column\n",
    "boston_df = boston_df.drop(boston_df.columns[0], axis=1)\n",
    "\n",
    "# Set the first row as column names\n",
    "boston_df.columns = boston_df.iloc[0]\n",
    "\n",
    "# Drop the first row after setting it as column names\n",
    "boston_df = boston_df.drop(boston_df.index[0])\n",
    "\n",
    "# Reset the index\n",
    "boston_df.reset_index(drop=True, inplace=True)\n",
    "\n",
    "# Now df will have the desired format with the first row as column names and the first column removed\n",
    "print(boston_df)"
   ]
  },
  {
   "cell_type": "markdown",
   "id": "df802c87",
   "metadata": {},
   "source": [
    "<span style=\"font-family: Arial; font-weight:bold;font-size:1.5em;color:#00b3e5;\"> Discover outliers with visualization tools\n",
    "\n",
    "### Box plot-"
   ]
  },
  {
   "cell_type": "code",
   "execution_count": 83,
   "id": "1f94411a",
   "metadata": {},
   "outputs": [
    {
     "data": {
      "text/plain": [
       "<Axes: xlabel='DIS'>"
      ]
     },
     "execution_count": 83,
     "metadata": {},
     "output_type": "execute_result"
    },
    {
     "data": {
      "image/png": "[encoded data removed]",
      "text/plain": [
       "<Figure size 640x480 with 1 Axes>"
      ]
     },
     "metadata": {},
     "output_type": "display_data"
    }
   ],
   "source": [
    "# Convert 'DIS' column to numeric\n",
    "boston_df['DIS'] = pd.to_numeric(boston_df['DIS'])\n",
    "\n",
    "# Plot boxplot\n",
    "sns.boxplot(x=boston_df['DIS'])"
   ]
  },
  {
   "cell_type": "markdown",
   "id": "5d9a36d7",
   "metadata": {},
   "source": [
    "**Note:** Above plot shows three points between 10 to 12, these are outliers as there are not included in the box of other observation i.e no where near the quartiles."
   ]
  },
  {
   "cell_type": "code",
   "execution_count": 84,
   "id": "ba55ae4b",
   "metadata": {},
   "outputs": [],
   "source": [
    "## Scatter plot-"
   ]
  },
  {
   "cell_type": "code",
   "execution_count": 85,
   "id": "508a129e",
   "metadata": {},
   "outputs": [
    {
     "data": {
      "image/png": "[encoded data removed]",
      "text/plain": [
       "<Figure size 1600x800 with 1 Axes>"
      ]
     },
     "metadata": {},
     "output_type": "display_data"
    }
   ],
   "source": [
    "fig, ax = plt.subplots(figsize = (16,8)) # setting the figure size of the plot\n",
    "ax.scatter(boston_df['INDUS'], boston_df['TAX']) # scatter plot\n",
    "ax.set_ylabel('non-retail business acres per town')\n",
    "ax.set_ylabel('Full-value property-tax rate per $10,000')\n",
    "plt.show()"
   ]
  },
  {
   "cell_type": "markdown",
   "id": "82645814",
   "metadata": {},
   "source": [
    "<span style=\"font-family: Arial; font-weight:bold;font-size:1.5em;color:#00b3e5;\"> Discover outliers with mathematical function\n",
    " ## Z-Score-"
   ]
  },
  {
   "cell_type": "code",
   "execution_count": 92,
   "id": "6e6446b8",
   "metadata": {},
   "outputs": [
    {
     "name": "stdout",
     "output_type": "stream",
     "text": [
      "0       INDUS      CHAS       NOX        RM       AGE       DIS       RAD  \\\n",
      "0    1.287909  0.272599  0.144217  0.413672  0.120013  0.140214  0.982843   \n",
      "1    0.593381  0.272599  0.740262  0.194274  0.367166  0.557160  0.867883   \n",
      "2    0.593381  0.272599  0.740262  1.282714  0.265812  0.557160  0.867883   \n",
      "3    1.306878  0.272599  0.835284  1.016303  0.809889  1.077737  0.752922   \n",
      "4    1.306878  0.272599  0.835284  1.228577  0.511180  1.077737  0.752922   \n",
      "..        ...       ...       ...       ...       ...       ...       ...   \n",
      "501  0.115738  0.272599  0.158124  0.439316  0.018673  0.625796  0.982843   \n",
      "502  0.115738  0.272599  0.158124  0.234548  0.288933  0.716639  0.982843   \n",
      "503  0.115738  0.272599  0.158124  0.984960  0.797449  0.773684  0.982843   \n",
      "504  0.115738  0.272599  0.158124  0.725672  0.736996  0.668437  0.982843   \n",
      "505  0.115738  0.272599  0.158124  0.362767  0.434732  0.613246  0.982843   \n",
      "\n",
      "0         TAX   PTRATIO         B     LSTAT     PRICE  \n",
      "0    0.666608  1.459000  0.441052  1.075562  0.159686  \n",
      "1    0.987329  0.303094  0.441052  0.492439  0.101524  \n",
      "2    0.987329  0.303094  0.396427  1.208727  1.324247  \n",
      "3    1.106115  0.113032  0.416163  1.361517  1.182758  \n",
      "4    1.106115  0.113032  0.441052  1.026501  1.487503  \n",
      "..        ...       ...       ...       ...       ...  \n",
      "501  0.803212  1.176466  0.387217  0.418147  0.014454  \n",
      "502  0.803212  1.176466  0.441052  0.500850  0.210362  \n",
      "503  0.803212  1.176466  0.441052  0.983048  0.148802  \n",
      "504  0.803212  1.176466  0.403225  0.865302  0.057989  \n",
      "505  0.803212  1.176466  0.441052  0.669058  1.157248  \n",
      "\n",
      "[506 rows x 12 columns]\n"
     ]
    }
   ],
   "source": [
    "from scipy import stats\n",
    "import numpy as np\n",
    "# Convert all columns to numeric (excluding non-numeric columns like object/string columns)\n",
    "boston_df_numeric = boston_df.apply(pd.to_numeric, errors = 'coerce')\n",
    "# Remove rows with missing values\n",
    "boston_df_numeric = boston_df_numeric.dropna()\n",
    "# compute z - scores\n",
    "z = np.abs(stats.zscore(boston_df_numeric))   # get the z-score of every value with respect to their columns\n",
    "print(z)"
   ]
  },
  {
   "cell_type": "markdown",
   "id": "037d54ce",
   "metadata": {},
   "source": [
    "Note: Looking the code and the output above, it is difficult to say which data point is an outlier. Let’s try and define a threshold to identify an outlier."
   ]
  },
  {
   "cell_type": "code",
   "execution_count": 93,
   "id": "b9fc7143",
   "metadata": {},
   "outputs": [
    {
     "data": {
      "text/plain": [
       "(array([102, 141, 142, 152, 154, 155, 160, 162, 163, 208, 209, 210, 211,\n",
       "        212, 216, 218, 219, 220, 221, 222, 225, 234, 236, 257, 262, 269,\n",
       "        273, 274, 276, 277, 282, 283, 351, 352, 353, 354, 355, 356, 357,\n",
       "        358, 363, 364, 364, 365, 367, 369, 370, 372, 373, 374, 374, 406,\n",
       "        410, 411, 412, 412, 414, 415, 416, 418, 419, 423, 424, 425, 426,\n",
       "        427, 429, 431, 436, 437, 438, 445, 450, 454, 455, 456, 457, 466],\n",
       "       dtype=int64),\n",
       " array([ 9, 10,  1,  1,  1,  1,  1,  1,  1,  1,  1,  1,  1,  1,  1,  1,  1,\n",
       "         1,  1,  1,  3,  1,  1,  3,  3,  1,  1,  1,  1,  1,  1,  1,  5,  5,\n",
       "         5,  5,  5,  1,  1,  1,  1,  1,  3,  3,  3,  1,  1,  1, 10,  3, 10,\n",
       "         3,  9,  9,  9, 10, 10,  9,  9,  9,  9,  9,  9,  9,  9,  9,  9,  9,\n",
       "         9,  9,  9,  9,  9,  9,  9,  9,  9,  9], dtype=int64))"
      ]
     },
     "execution_count": 93,
     "metadata": {},
     "output_type": "execute_result"
    }
   ],
   "source": [
    "threshold = 3\n",
    "np.where(z > threshold)"
   ]
  },
  {
   "cell_type": "code",
   "execution_count": 94,
   "id": "e2c3264b",
   "metadata": {},
   "outputs": [],
   "source": [
    "## IQR  -"
   ]
  },
  {
   "cell_type": "code",
   "execution_count": 96,
   "id": "1476f54d",
   "metadata": {},
   "outputs": [
    {
     "name": "stdout",
     "output_type": "stream",
     "text": [
      "0\n",
      "INDUS       12.91000\n",
      "CHAS         0.00000\n",
      "NOX          0.17500\n",
      "RM           0.73800\n",
      "AGE         49.05000\n",
      "DIS          3.08825\n",
      "RAD         20.00000\n",
      "TAX        387.00000\n",
      "PTRATIO      2.80000\n",
      "B           20.84750\n",
      "LSTAT       10.00500\n",
      "PRICE        7.97500\n",
      "dtype: float64\n"
     ]
    }
   ],
   "source": [
    "Q1 = boston_df_numeric.quantile(0.25)\n",
    "Q3 = boston_df_numeric.quantile(0.75)\n",
    "IQR = Q3 - Q1\n",
    "print(IQR)"
   ]
  },
  {
   "cell_type": "code",
   "execution_count": 98,
   "id": "9ecdd518",
   "metadata": {},
   "outputs": [
    {
     "data": {
      "text/plain": [
       "(array([ 18,  25,  27,  32,  34,  97,  97,  98,  98, 102, 118, 134, 141,\n",
       "        142, 145, 146, 151, 152, 152, 153, 154, 154, 155, 155, 156, 157,\n",
       "        160, 160, 161, 162, 162, 162, 163, 163, 163, 165, 166, 166, 167,\n",
       "        168, 169, 170, 179, 180, 180, 182, 186, 186, 190, 195, 195, 196,\n",
       "        197, 198, 202, 203, 203, 204, 204, 208, 209, 210, 211, 212, 216,\n",
       "        218, 219, 220, 221, 222, 224, 224, 225, 225, 226, 226, 228, 232,\n",
       "        232, 233, 233, 234, 236, 253, 253, 256, 257, 257, 257, 258, 259,\n",
       "        260, 261, 261, 262, 262, 262, 263, 264, 265, 266, 267, 267, 267,\n",
       "        268, 268, 269, 273, 274, 276, 277, 280, 280, 282, 282, 283, 283,\n",
       "        283, 286, 291, 351, 352, 353, 354, 355, 356, 357, 358, 363, 364,\n",
       "        364, 365, 366, 367, 367, 368, 369, 369, 370, 370, 371, 372, 372,\n",
       "        373, 374, 374, 384, 384, 386, 387, 398, 399, 404, 405, 406, 407,\n",
       "        408, 409, 410, 411, 412, 412, 412, 413, 414, 414, 414, 415, 416,\n",
       "        417, 418, 419, 420, 421, 422, 423, 424, 425, 426, 427, 428, 429,\n",
       "        430, 431, 432, 433, 434, 435, 436, 437, 438, 438, 444, 445, 446,\n",
       "        449, 450, 454, 455, 456, 457, 458, 460, 465, 466, 467, 475, 489,\n",
       "        490], dtype=int64),\n",
       " array([ 9,  9,  9,  9,  9,  3, 11,  3, 11,  9,  9,  9, 10,  1,  9,  9,  9,\n",
       "         1,  9,  9,  1,  9,  1,  9,  9, 11,  1,  9, 11,  1,  3, 11,  1,  3,\n",
       "        11,  9,  3, 11,  9,  9,  9,  9, 11,  3, 11, 11,  3, 11, 11,  3, 11,\n",
       "         8,  8,  8, 11,  3, 11,  3, 11,  1,  1,  1,  1,  1,  1,  1,  1,  1,\n",
       "         1,  1,  3, 11,  3, 11,  3, 11, 11,  3, 11,  3, 11,  1,  1,  3, 11,\n",
       "        11,  3,  8, 11,  8,  8,  8,  8, 11,  3,  8, 11,  8,  8,  8,  8,  3,\n",
       "         8, 11,  8, 11,  1,  1,  1,  1,  1,  3, 11,  1, 11,  1,  3, 11,  9,\n",
       "        11,  5,  5,  5,  5,  5,  1,  1,  1,  1,  1,  3,  3,  9,  3,  9, 11,\n",
       "         1, 11,  1, 11, 11,  1, 11, 10,  3, 10,  3,  9,  3, 10, 11,  9,  9,\n",
       "        11,  3,  9,  9,  9,  9,  9,  3,  9, 10,  9,  3,  9, 10,  9,  9,  9,\n",
       "         9,  9,  9,  9,  9,  9,  9,  9,  9,  9,  9,  9,  9,  9,  9,  9,  9,\n",
       "         9,  9,  9,  9, 10,  9,  9,  9,  9,  9,  9,  9,  9,  9,  9,  9,  9,\n",
       "         9,  9,  9,  9,  9], dtype=int64))"
      ]
     },
     "execution_count": 98,
     "metadata": {},
     "output_type": "execute_result"
    }
   ],
   "source": [
    "np.where((boston_df_numeric < (Q1 - 1.5 * IQR)) | (boston_df_numeric > (Q3 + 1.5 * IQR)))"
   ]
  },
  {
   "cell_type": "code",
   "execution_count": 99,
   "id": "3ac1f1e0",
   "metadata": {},
   "outputs": [],
   "source": [
    "## Working with Outliers: Correcting , Removing"
   ]
  },
  {
   "cell_type": "code",
   "execution_count": 100,
   "id": "5b51affe",
   "metadata": {},
   "outputs": [],
   "source": [
    "# z-Scoreithout "
   ]
  },
  {
   "cell_type": "code",
   "execution_count": 101,
   "id": "e70d2b30",
   "metadata": {},
   "outputs": [
    {
     "data": {
      "text/plain": [
       "((431, 12), (506, 12))"
      ]
     },
     "execution_count": 101,
     "metadata": {},
     "output_type": "execute_result"
    }
   ],
   "source": [
    "boston_df1 = boston_df_numeric[(z < 3).all(axis=1)] # select only the rows without a single outlier\n",
    "boston_df1.shape, boston_df.shape"
   ]
  },
  {
   "cell_type": "code",
   "execution_count": 104,
   "id": "8b279c11",
   "metadata": {},
   "outputs": [],
   "source": [
    "boston_df2 = boston_df_numeric.copy()   #make a deep copy of the dataframe\n",
    "\n",
    "#Replace all the outliers with median values. This will create new some outliers but, we will ignore them\n",
    "\n",
    "for i, j in zip(np.where(z > threshold)[0], np.where(z > threshold)[1]):# iterate using 2 variables.i for rows and j for columns\n",
    "    boston_df2.iloc[i,j] = boston_df.iloc[:,j].median()  # replace i,jth element with the median of j i.e, corresponding column"
   ]
  },
  {
   "cell_type": "code",
   "execution_count": 105,
   "id": "399fc6f0",
   "metadata": {
    "scrolled": true
   },
   "outputs": [
    {
     "data": {
      "text/plain": [
       "(array([145, 146, 155, 156, 163, 224, 232, 233, 253, 267, 367, 384, 409,\n",
       "        413, 414, 417, 428, 430, 432, 433, 434, 435, 438], dtype=int64),\n",
       " array([ 9,  9,  9,  9,  3,  3,  3,  3,  3,  3,  9,  3,  9,  9,  9,  9,  9,\n",
       "         9,  9,  9,  9,  9, 10], dtype=int64))"
      ]
     },
     "execution_count": 105,
     "metadata": {},
     "output_type": "execute_result"
    }
   ],
   "source": [
    "z = np.abs(stats.zscore(boston_df2))\n",
    "np.where(z > threshold)  # New outliers detected after imputing the original outlier"
   ]
  },
  {
   "cell_type": "markdown",
   "id": "69b9c0b4",
   "metadata": {},
   "source": [
    "### 2. IQR Score "
   ]
  },
  {
   "cell_type": "markdown",
   "id": "b3b7ec95",
   "metadata": {},
   "source": [
    "Just like Z-score we can use previously calculated IQR score to filter out the outliers by keeping only valid values"
   ]
  },
  {
   "cell_type": "code",
   "execution_count": 108,
   "id": "fb2dfc7d",
   "metadata": {},
   "outputs": [],
   "source": [
    "boston_df_out = boston_df_numeric[~((boston_df_numeric < (Q1-1.5 * IQR)) |(boston_df_numeric > (Q3 + 1.5 * IQR))).any(axis=1)] # rows without outliers"
   ]
  },
  {
   "cell_type": "code",
   "execution_count": 109,
   "id": "6bf94b9a",
   "metadata": {},
   "outputs": [
    {
     "data": {
      "text/plain": [
       "(343, 12)"
      ]
     },
     "execution_count": 109,
     "metadata": {},
     "output_type": "execute_result"
    }
   ],
   "source": [
    "boston_df_out.shape"
   ]
  },
  {
   "cell_type": "code",
   "execution_count": 112,
   "id": "16ac0239",
   "metadata": {},
   "outputs": [],
   "source": [
    "boston_df4 = boston_df_numeric.copy()"
   ]
  },
  {
   "cell_type": "code",
   "execution_count": 113,
   "id": "360ed2cf",
   "metadata": {},
   "outputs": [],
   "source": [
    "# Replace every outlier on the lower side by the lower whisker\n",
    "for i, j in zip(np.where(boston_df4 < Q1 - 1.5 * IQR)[0], np.where(boston_df4 > Q3+ 1.5 * IQR)[1]):\n",
    "    \n",
    "    whisker = Q3 + 1.5 * IQR\n",
    "    boston_df4.iloc[i,j] = whisker[j]\n",
    "    \n",
    "    \n",
    "    \n",
    "# Replace every outlier on the upper side by the upper whisker\n",
    "#Replace every outlier on the upper side by the upper whisker    \n",
    "for i, j in zip(np.where(boston_df4 > Q3 + 1.5 * IQR)[0], np.where(boston_df4 > Q3 + 1.5 * IQR)[1]):\n",
    "    \n",
    "    whisker  = Q3 + 1.5 * IQR\n",
    "    boston_df4.iloc[i,j] = whisker[j]\n",
    "    "
   ]
  },
  {
   "cell_type": "code",
   "execution_count": 114,
   "id": "036e32d9",
   "metadata": {},
   "outputs": [
    {
     "data": {
      "text/plain": [
       "((506, 12), (506, 12))"
      ]
     },
     "execution_count": 114,
     "metadata": {},
     "output_type": "execute_result"
    }
   ],
   "source": [
    "boston_df4.shape, boston_df.shape"
   ]
  },
  {
   "cell_type": "code",
   "execution_count": null,
   "id": "1c3b9924",
   "metadata": {},
   "outputs": [],
   "source": []
  }
 ],
 "metadata": {
  "kernelspec": {
   "display_name": "Python 3 (ipykernel)",
   "language": "python",
   "name": "python3"
  },
  "language_info": {
   "codemirror_mode": {
    "name": "ipython",
    "version": 3
   },
   "file_extension": ".py",
   "mimetype": "text/x-python",
   "name": "python",
   "nbconvert_exporter": "python",
   "pygments_lexer": "ipython3",
   "version": "3.11.5"
  }
 },
 "nbformat": 4,
 "nbformat_minor": 5
}
