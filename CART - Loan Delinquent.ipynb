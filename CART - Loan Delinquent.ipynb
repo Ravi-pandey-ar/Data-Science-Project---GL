{
 "cells": [
  {
   "cell_type": "markdown",
   "id": "386416ca",
   "metadata": {},
   "source": [
    "# Problem Statement\n",
    "\n",
    "Based on the given loan data can we understand the major factors or characteristics of a borrower which makes them to get into delinquent stage.\n",
    "\n",
    "• Delinquency is a major metric in assessing risk, as more and more customers getting delinquent means the risk of customers that will default will also increase.\n",
    "\n",
    "• The main objective is to minimize the risk for which you need to build a decision tree model using CART technique that will identify various risk and non-risk attributes of borrower’s to get into delinquent stage"
   ]
  },
  {
   "cell_type": "code",
   "execution_count": 1,
   "id": "942f772b",
   "metadata": {},
   "outputs": [],
   "source": [
    "# Importing libraries and Loading Data."
   ]
  },
  {
   "cell_type": "code",
   "execution_count": 3,
   "id": "8757ee7c",
   "metadata": {},
   "outputs": [],
   "source": [
    "import numpy as np\n",
    "import pandas as pd\n",
    "from sklearn.tree import DecisionTreeClassifier"
   ]
  },
  {
   "cell_type": "code",
   "execution_count": 4,
   "id": "609edec0",
   "metadata": {},
   "outputs": [],
   "source": [
    "ld_df = pd.read_csv(\"Loan Delinquent Dataset.csv\")"
   ]
  },
  {
   "cell_type": "code",
   "execution_count": 5,
   "id": "1aa68d02",
   "metadata": {},
   "outputs": [
    {
     "data": {
      "text/html": [
       "<div>\n",
       "<style scoped>\n",
       "    .dataframe tbody tr th:only-of-type {\n",
       "        vertical-align: middle;\n",
       "    }\n",
       "\n",
       "    .dataframe tbody tr th {\n",
       "        vertical-align: top;\n",
       "    }\n",
       "\n",
       "    .dataframe thead th {\n",
       "        text-align: right;\n",
       "    }\n",
       "</style>\n",
       "<table border=\"1\" class=\"dataframe\">\n",
       "  <thead>\n",
       "    <tr style=\"text-align: right;\">\n",
       "      <th></th>\n",
       "      <th>ID</th>\n",
       "      <th>delinquent</th>\n",
       "      <th>Sdelinquent</th>\n",
       "      <th>term</th>\n",
       "      <th>gender</th>\n",
       "      <th>purpose</th>\n",
       "      <th>home_ownership</th>\n",
       "      <th>age</th>\n",
       "      <th>FICO</th>\n",
       "    </tr>\n",
       "  </thead>\n",
       "  <tbody>\n",
       "    <tr>\n",
       "      <th>0</th>\n",
       "      <td>1</td>\n",
       "      <td>Yes</td>\n",
       "      <td>1</td>\n",
       "      <td>36 months</td>\n",
       "      <td>Female</td>\n",
       "      <td>House</td>\n",
       "      <td>Mortgage</td>\n",
       "      <td>&gt;25</td>\n",
       "      <td>300-500</td>\n",
       "    </tr>\n",
       "    <tr>\n",
       "      <th>1</th>\n",
       "      <td>2</td>\n",
       "      <td>No</td>\n",
       "      <td>0</td>\n",
       "      <td>36 months</td>\n",
       "      <td>Female</td>\n",
       "      <td>House</td>\n",
       "      <td>Rent</td>\n",
       "      <td>20-25</td>\n",
       "      <td>&gt;500</td>\n",
       "    </tr>\n",
       "    <tr>\n",
       "      <th>2</th>\n",
       "      <td>3</td>\n",
       "      <td>Yes</td>\n",
       "      <td>1</td>\n",
       "      <td>36 months</td>\n",
       "      <td>Female</td>\n",
       "      <td>House</td>\n",
       "      <td>Rent</td>\n",
       "      <td>&gt;25</td>\n",
       "      <td>300-500</td>\n",
       "    </tr>\n",
       "    <tr>\n",
       "      <th>3</th>\n",
       "      <td>4</td>\n",
       "      <td>Yes</td>\n",
       "      <td>1</td>\n",
       "      <td>36 months</td>\n",
       "      <td>Female</td>\n",
       "      <td>Car</td>\n",
       "      <td>Mortgage</td>\n",
       "      <td>&gt;25</td>\n",
       "      <td>300-500</td>\n",
       "    </tr>\n",
       "    <tr>\n",
       "      <th>4</th>\n",
       "      <td>5</td>\n",
       "      <td>Yes</td>\n",
       "      <td>1</td>\n",
       "      <td>36 months</td>\n",
       "      <td>Female</td>\n",
       "      <td>House</td>\n",
       "      <td>Rent</td>\n",
       "      <td>&gt;25</td>\n",
       "      <td>300-500</td>\n",
       "    </tr>\n",
       "  </tbody>\n",
       "</table>\n",
       "</div>"
      ],
      "text/plain": [
       "   ID delinquent  Sdelinquent       term  gender purpose home_ownership  \\\n",
       "0   1        Yes            1  36 months  Female   House       Mortgage   \n",
       "1   2         No            0  36 months  Female   House           Rent   \n",
       "2   3        Yes            1  36 months  Female   House           Rent   \n",
       "3   4        Yes            1  36 months  Female     Car       Mortgage   \n",
       "4   5        Yes            1  36 months  Female   House           Rent   \n",
       "\n",
       "     age     FICO  \n",
       "0    >25  300-500  \n",
       "1  20-25     >500  \n",
       "2    >25  300-500  \n",
       "3    >25  300-500  \n",
       "4    >25  300-500  "
      ]
     },
     "execution_count": 5,
     "metadata": {},
     "output_type": "execute_result"
    }
   ],
   "source": [
    "# Checking the data\n",
    "ld_df.head()"
   ]
  },
  {
   "cell_type": "code",
   "execution_count": 6,
   "id": "c65f33d2",
   "metadata": {},
   "outputs": [],
   "source": [
    "#Dropping unwanted variables\n",
    "#Sdelinquent can also be dropped instead of delinquent."
   ]
  },
  {
   "cell_type": "code",
   "execution_count": 7,
   "id": "4711da87",
   "metadata": {},
   "outputs": [],
   "source": [
    "ld_df = ld_df.drop([\"ID\",\"delinquent\"], axis = 1)"
   ]
  },
  {
   "cell_type": "code",
   "execution_count": 8,
   "id": "c178e1ec",
   "metadata": {},
   "outputs": [
    {
     "data": {
      "text/html": [
       "<div>\n",
       "<style scoped>\n",
       "    .dataframe tbody tr th:only-of-type {\n",
       "        vertical-align: middle;\n",
       "    }\n",
       "\n",
       "    .dataframe tbody tr th {\n",
       "        vertical-align: top;\n",
       "    }\n",
       "\n",
       "    .dataframe thead th {\n",
       "        text-align: right;\n",
       "    }\n",
       "</style>\n",
       "<table border=\"1\" class=\"dataframe\">\n",
       "  <thead>\n",
       "    <tr style=\"text-align: right;\">\n",
       "      <th></th>\n",
       "      <th>Sdelinquent</th>\n",
       "      <th>term</th>\n",
       "      <th>gender</th>\n",
       "      <th>purpose</th>\n",
       "      <th>home_ownership</th>\n",
       "      <th>age</th>\n",
       "      <th>FICO</th>\n",
       "    </tr>\n",
       "  </thead>\n",
       "  <tbody>\n",
       "    <tr>\n",
       "      <th>0</th>\n",
       "      <td>1</td>\n",
       "      <td>36 months</td>\n",
       "      <td>Female</td>\n",
       "      <td>House</td>\n",
       "      <td>Mortgage</td>\n",
       "      <td>&gt;25</td>\n",
       "      <td>300-500</td>\n",
       "    </tr>\n",
       "    <tr>\n",
       "      <th>1</th>\n",
       "      <td>0</td>\n",
       "      <td>36 months</td>\n",
       "      <td>Female</td>\n",
       "      <td>House</td>\n",
       "      <td>Rent</td>\n",
       "      <td>20-25</td>\n",
       "      <td>&gt;500</td>\n",
       "    </tr>\n",
       "    <tr>\n",
       "      <th>2</th>\n",
       "      <td>1</td>\n",
       "      <td>36 months</td>\n",
       "      <td>Female</td>\n",
       "      <td>House</td>\n",
       "      <td>Rent</td>\n",
       "      <td>&gt;25</td>\n",
       "      <td>300-500</td>\n",
       "    </tr>\n",
       "    <tr>\n",
       "      <th>3</th>\n",
       "      <td>1</td>\n",
       "      <td>36 months</td>\n",
       "      <td>Female</td>\n",
       "      <td>Car</td>\n",
       "      <td>Mortgage</td>\n",
       "      <td>&gt;25</td>\n",
       "      <td>300-500</td>\n",
       "    </tr>\n",
       "    <tr>\n",
       "      <th>4</th>\n",
       "      <td>1</td>\n",
       "      <td>36 months</td>\n",
       "      <td>Female</td>\n",
       "      <td>House</td>\n",
       "      <td>Rent</td>\n",
       "      <td>&gt;25</td>\n",
       "      <td>300-500</td>\n",
       "    </tr>\n",
       "  </tbody>\n",
       "</table>\n",
       "</div>"
      ],
      "text/plain": [
       "   Sdelinquent       term  gender purpose home_ownership    age     FICO\n",
       "0            1  36 months  Female   House       Mortgage    >25  300-500\n",
       "1            0  36 months  Female   House           Rent  20-25     >500\n",
       "2            1  36 months  Female   House           Rent    >25  300-500\n",
       "3            1  36 months  Female     Car       Mortgage    >25  300-500\n",
       "4            1  36 months  Female   House           Rent    >25  300-500"
      ]
     },
     "execution_count": 8,
     "metadata": {},
     "output_type": "execute_result"
    }
   ],
   "source": [
    "ld_df.head()"
   ]
  },
  {
   "cell_type": "code",
   "execution_count": 9,
   "id": "f4ed78a6",
   "metadata": {},
   "outputs": [
    {
     "data": {
      "text/plain": [
       "(11548, 7)"
      ]
     },
     "execution_count": 9,
     "metadata": {},
     "output_type": "execute_result"
    }
   ],
   "source": [
    "ld_df.shape"
   ]
  },
  {
   "cell_type": "code",
   "execution_count": 10,
   "id": "41a2dda2",
   "metadata": {},
   "outputs": [
    {
     "name": "stdout",
     "output_type": "stream",
     "text": [
      "<class 'pandas.core.frame.DataFrame'>\n",
      "RangeIndex: 11548 entries, 0 to 11547\n",
      "Data columns (total 7 columns):\n",
      " #   Column          Non-Null Count  Dtype \n",
      "---  ------          --------------  ----- \n",
      " 0   Sdelinquent     11548 non-null  int64 \n",
      " 1   term            11548 non-null  object\n",
      " 2   gender          11548 non-null  object\n",
      " 3   purpose         11548 non-null  object\n",
      " 4   home_ownership  11548 non-null  object\n",
      " 5   age             11548 non-null  object\n",
      " 6   FICO            11548 non-null  object\n",
      "dtypes: int64(1), object(6)\n",
      "memory usage: 631.7+ KB\n"
     ]
    }
   ],
   "source": [
    "ld_df.info()"
   ]
  },
  {
   "cell_type": "code",
   "execution_count": 11,
   "id": "da162cc9",
   "metadata": {},
   "outputs": [],
   "source": [
    "# many columns are of type object , these need to be converted to ordinal type."
   ]
  },
  {
   "cell_type": "code",
   "execution_count": 12,
   "id": "f585902d",
   "metadata": {},
   "outputs": [],
   "source": [
    "# Getting unique counts of all objects"
   ]
  },
  {
   "cell_type": "code",
   "execution_count": 13,
   "id": "d0cef4e6",
   "metadata": {},
   "outputs": [
    {
     "name": "stdout",
     "output_type": "stream",
     "text": [
      "term \n",
      " term\n",
      "36 months    10589\n",
      "60 months      959\n",
      "Name: count, dtype: int64\n",
      "\n",
      "\n",
      "gender \n",
      " gender\n",
      "Male      6555\n",
      "Female    4993\n",
      "Name: count, dtype: int64\n",
      "\n",
      "\n",
      "purpose \n",
      " purpose\n",
      "House       6892\n",
      "Car         2080\n",
      "Other        928\n",
      "Personal     892\n",
      "Wedding      408\n",
      "Medical      266\n",
      "other         82\n",
      "Name: count, dtype: int64\n",
      "\n",
      "\n",
      "home_ownership \n",
      " home_ownership\n",
      "Mortgage    5461\n",
      "Rent        5216\n",
      "Own          871\n",
      "Name: count, dtype: int64\n",
      "\n",
      "\n",
      "age \n",
      " age\n",
      "20-25    5888\n",
      ">25      5660\n",
      "Name: count, dtype: int64\n",
      "\n",
      "\n",
      "FICO \n",
      " FICO\n",
      "300-500    6370\n",
      ">500       5178\n",
      "Name: count, dtype: int64\n"
     ]
    }
   ],
   "source": [
    "print('term \\n',ld_df.term.value_counts())\n",
    "print('\\n')\n",
    "print('gender \\n',ld_df.gender.value_counts())\n",
    "print('\\n')\n",
    "print('purpose \\n',ld_df.purpose.value_counts())\n",
    "print('\\n')\n",
    "print('home_ownership \\n',ld_df.home_ownership.value_counts())\n",
    "print('\\n')\n",
    "print('age \\n',ld_df.age.value_counts())\n",
    "print('\\n')\n",
    "print('FICO \\n',ld_df.FICO.value_counts())"
   ]
  },
  {
   "cell_type": "markdown",
   "id": "282e953c",
   "metadata": {},
   "source": [
    "Note:\n",
    "Decision tree in Python can take only numerical / categorical colums. It cannot take string / object types.\n",
    "\n",
    "The following code loops through each column and checks if the column type is object then converts those columns into categorical with each distinct value becoming a category."
   ]
  },
  {
   "cell_type": "code",
   "execution_count": 15,
   "id": "d66eaec2",
   "metadata": {},
   "outputs": [
    {
     "name": "stdout",
     "output_type": "stream",
     "text": [
      "\n",
      "\n",
      "feature: term\n",
      "['36 months', '60 months']\n",
      "Categories (2, object): ['36 months', '60 months']\n",
      "[0 1]\n",
      "\n",
      "\n",
      "feature: gender\n",
      "['Female', 'Male']\n",
      "Categories (2, object): ['Female', 'Male']\n",
      "[0 1]\n",
      "\n",
      "\n",
      "feature: purpose\n",
      "['House', 'Car', 'Other', 'Personal', 'Wedding', 'Medical', 'other']\n",
      "Categories (7, object): ['Car', 'House', 'Medical', 'Other', 'Personal', 'Wedding', 'other']\n",
      "[1 0 3 4 5 2 6]\n",
      "\n",
      "\n",
      "feature: home_ownership\n",
      "['Mortgage', 'Rent', 'Own']\n",
      "Categories (3, object): ['Mortgage', 'Own', 'Rent']\n",
      "[0 2 1]\n",
      "\n",
      "\n",
      "feature: age\n",
      "['>25', '20-25']\n",
      "Categories (2, object): ['20-25', '>25']\n",
      "[1 0]\n",
      "\n",
      "\n",
      "feature: FICO\n",
      "['300-500', '>500']\n",
      "Categories (2, object): ['300-500', '>500']\n",
      "[0 1]\n"
     ]
    }
   ],
   "source": [
    "for feature in ld_df.columns:\n",
    "    if ld_df[feature].dtype == 'object':\n",
    "        print('\\n')\n",
    "        print('feature:',feature)\n",
    "        print(pd.Categorical(ld_df[feature].unique()))\n",
    "        print(pd.Categorical(ld_df[feature].unique()).codes)\n",
    "        ld_df[feature] = pd.Categorical(ld_df[feature]).codes"
   ]
  },
  {
   "cell_type": "markdown",
   "id": "c6a72d29",
   "metadata": {},
   "source": [
    "For each feature, look at the 2nd and 4th row to get the encoding mappings. Do not look at the line starting with 'Categories'"
   ]
  },
  {
   "cell_type": "code",
   "execution_count": 16,
   "id": "369ba9fa",
   "metadata": {},
   "outputs": [],
   "source": [
    "# Comparing the unique counts from above"
   ]
  },
  {
   "cell_type": "code",
   "execution_count": 17,
   "id": "1838b33a",
   "metadata": {},
   "outputs": [
    {
     "name": "stdout",
     "output_type": "stream",
     "text": [
      "term \n",
      " term\n",
      "0    10589\n",
      "1      959\n",
      "Name: count, dtype: int64\n",
      "\n",
      "\n",
      "gender \n",
      " gender\n",
      "1    6555\n",
      "0    4993\n",
      "Name: count, dtype: int64\n",
      "\n",
      "\n",
      "purpose \n",
      " purpose\n",
      "1    6892\n",
      "0    2080\n",
      "3     928\n",
      "4     892\n",
      "5     408\n",
      "2     266\n",
      "6      82\n",
      "Name: count, dtype: int64\n",
      "\n",
      "\n",
      "home_ownership \n",
      " home_ownership\n",
      "0    5461\n",
      "2    5216\n",
      "1     871\n",
      "Name: count, dtype: int64\n",
      "\n",
      "\n",
      "age \n",
      " age\n",
      "0    5888\n",
      "1    5660\n",
      "Name: count, dtype: int64\n",
      "\n",
      "\n",
      "FICO \n",
      " FICO\n",
      "0    6370\n",
      "1    5178\n",
      "Name: count, dtype: int64\n"
     ]
    }
   ],
   "source": [
    "print('term \\n',ld_df.term.value_counts())\n",
    "print('\\n')\n",
    "print('gender \\n',ld_df.gender.value_counts())\n",
    "print('\\n')\n",
    "print('purpose \\n',ld_df.purpose.value_counts())\n",
    "print('\\n')\n",
    "print('home_ownership \\n',ld_df.home_ownership.value_counts())\n",
    "print('\\n')\n",
    "print('age \\n',ld_df.age.value_counts())\n",
    "print('\\n')\n",
    "print('FICO \\n',ld_df.FICO.value_counts())"
   ]
  },
  {
   "cell_type": "code",
   "execution_count": 18,
   "id": "a8644182",
   "metadata": {},
   "outputs": [
    {
     "name": "stdout",
     "output_type": "stream",
     "text": [
      "<class 'pandas.core.frame.DataFrame'>\n",
      "RangeIndex: 11548 entries, 0 to 11547\n",
      "Data columns (total 7 columns):\n",
      " #   Column          Non-Null Count  Dtype\n",
      "---  ------          --------------  -----\n",
      " 0   Sdelinquent     11548 non-null  int64\n",
      " 1   term            11548 non-null  int8 \n",
      " 2   gender          11548 non-null  int8 \n",
      " 3   purpose         11548 non-null  int8 \n",
      " 4   home_ownership  11548 non-null  int8 \n",
      " 5   age             11548 non-null  int8 \n",
      " 6   FICO            11548 non-null  int8 \n",
      "dtypes: int64(1), int8(6)\n",
      "memory usage: 158.0 KB\n"
     ]
    }
   ],
   "source": [
    "ld_df.info()"
   ]
  },
  {
   "cell_type": "code",
   "execution_count": 19,
   "id": "14c1ce29",
   "metadata": {},
   "outputs": [
    {
     "data": {
      "text/html": [
       "<div>\n",
       "<style scoped>\n",
       "    .dataframe tbody tr th:only-of-type {\n",
       "        vertical-align: middle;\n",
       "    }\n",
       "\n",
       "    .dataframe tbody tr th {\n",
       "        vertical-align: top;\n",
       "    }\n",
       "\n",
       "    .dataframe thead th {\n",
       "        text-align: right;\n",
       "    }\n",
       "</style>\n",
       "<table border=\"1\" class=\"dataframe\">\n",
       "  <thead>\n",
       "    <tr style=\"text-align: right;\">\n",
       "      <th></th>\n",
       "      <th>Sdelinquent</th>\n",
       "      <th>term</th>\n",
       "      <th>gender</th>\n",
       "      <th>purpose</th>\n",
       "      <th>home_ownership</th>\n",
       "      <th>age</th>\n",
       "      <th>FICO</th>\n",
       "    </tr>\n",
       "  </thead>\n",
       "  <tbody>\n",
       "    <tr>\n",
       "      <th>0</th>\n",
       "      <td>1</td>\n",
       "      <td>0</td>\n",
       "      <td>0</td>\n",
       "      <td>1</td>\n",
       "      <td>0</td>\n",
       "      <td>1</td>\n",
       "      <td>0</td>\n",
       "    </tr>\n",
       "    <tr>\n",
       "      <th>1</th>\n",
       "      <td>0</td>\n",
       "      <td>0</td>\n",
       "      <td>0</td>\n",
       "      <td>1</td>\n",
       "      <td>2</td>\n",
       "      <td>0</td>\n",
       "      <td>1</td>\n",
       "    </tr>\n",
       "    <tr>\n",
       "      <th>2</th>\n",
       "      <td>1</td>\n",
       "      <td>0</td>\n",
       "      <td>0</td>\n",
       "      <td>1</td>\n",
       "      <td>2</td>\n",
       "      <td>1</td>\n",
       "      <td>0</td>\n",
       "    </tr>\n",
       "    <tr>\n",
       "      <th>3</th>\n",
       "      <td>1</td>\n",
       "      <td>0</td>\n",
       "      <td>0</td>\n",
       "      <td>0</td>\n",
       "      <td>0</td>\n",
       "      <td>1</td>\n",
       "      <td>0</td>\n",
       "    </tr>\n",
       "    <tr>\n",
       "      <th>4</th>\n",
       "      <td>1</td>\n",
       "      <td>0</td>\n",
       "      <td>0</td>\n",
       "      <td>1</td>\n",
       "      <td>2</td>\n",
       "      <td>1</td>\n",
       "      <td>0</td>\n",
       "    </tr>\n",
       "  </tbody>\n",
       "</table>\n",
       "</div>"
      ],
      "text/plain": [
       "   Sdelinquent  term  gender  purpose  home_ownership  age  FICO\n",
       "0            1     0       0        1               0    1     0\n",
       "1            0     0       0        1               2    0     1\n",
       "2            1     0       0        1               2    1     0\n",
       "3            1     0       0        0               0    1     0\n",
       "4            1     0       0        1               2    1     0"
      ]
     },
     "execution_count": 19,
     "metadata": {},
     "output_type": "execute_result"
    }
   ],
   "source": [
    "ld_df.head()"
   ]
  },
  {
   "cell_type": "code",
   "execution_count": 20,
   "id": "92ec85e4",
   "metadata": {},
   "outputs": [],
   "source": [
    "# Label Encoding has been done and all column are converted to number"
   ]
  },
  {
   "cell_type": "markdown",
   "id": "b5343972",
   "metadata": {},
   "source": [
    "### Proportion of 1s and 0s"
   ]
  },
  {
   "cell_type": "code",
   "execution_count": 24,
   "id": "91cdb025",
   "metadata": {},
   "outputs": [
    {
     "data": {
      "text/plain": [
       "Sdelinquent\n",
       "1    7721\n",
       "0    3827\n",
       "Name: count, dtype: int64"
      ]
     },
     "execution_count": 24,
     "metadata": {},
     "output_type": "execute_result"
    }
   ],
   "source": [
    "ld_df.Sdelinquent.value_counts()"
   ]
  },
  {
   "cell_type": "code",
   "execution_count": 21,
   "id": "55d0fc1b",
   "metadata": {},
   "outputs": [
    {
     "data": {
      "text/plain": [
       "Sdelinquent\n",
       "1    0.668601\n",
       "0    0.331399\n",
       "Name: proportion, dtype: float64"
      ]
     },
     "execution_count": 21,
     "metadata": {},
     "output_type": "execute_result"
    }
   ],
   "source": [
    "ld_df.Sdelinquent.value_counts(normalize = True)# converted into percent"
   ]
  },
  {
   "cell_type": "code",
   "execution_count": 25,
   "id": "ff56a13d",
   "metadata": {},
   "outputs": [
    {
     "name": "stdout",
     "output_type": "stream",
     "text": [
      "Sdelinquent\n",
      "1    7721\n",
      "0    3827\n",
      "Name: count, dtype: int64\n",
      "%1s =  66.8600623484586\n",
      "%0s =  33.13993765154139\n"
     ]
    }
   ],
   "source": [
    "print(ld_df.Sdelinquent.value_counts())\n",
    "print('%1s = ',7721/(7721+3827)*100)\n",
    "print('%0s = ',3827/(7721+3827)*100)"
   ]
  },
  {
   "cell_type": "markdown",
   "id": "42581aed",
   "metadata": {},
   "source": [
    "## Extracting the target column into separate vectors for training set and test set"
   ]
  },
  {
   "cell_type": "code",
   "execution_count": 26,
   "id": "36526976",
   "metadata": {},
   "outputs": [
    {
     "data": {
      "text/html": [
       "<div>\n",
       "<style scoped>\n",
       "    .dataframe tbody tr th:only-of-type {\n",
       "        vertical-align: middle;\n",
       "    }\n",
       "\n",
       "    .dataframe tbody tr th {\n",
       "        vertical-align: top;\n",
       "    }\n",
       "\n",
       "    .dataframe thead th {\n",
       "        text-align: right;\n",
       "    }\n",
       "</style>\n",
       "<table border=\"1\" class=\"dataframe\">\n",
       "  <thead>\n",
       "    <tr style=\"text-align: right;\">\n",
       "      <th></th>\n",
       "      <th>term</th>\n",
       "      <th>gender</th>\n",
       "      <th>purpose</th>\n",
       "      <th>home_ownership</th>\n",
       "      <th>age</th>\n",
       "      <th>FICO</th>\n",
       "    </tr>\n",
       "  </thead>\n",
       "  <tbody>\n",
       "    <tr>\n",
       "      <th>0</th>\n",
       "      <td>0</td>\n",
       "      <td>0</td>\n",
       "      <td>1</td>\n",
       "      <td>0</td>\n",
       "      <td>1</td>\n",
       "      <td>0</td>\n",
       "    </tr>\n",
       "    <tr>\n",
       "      <th>1</th>\n",
       "      <td>0</td>\n",
       "      <td>0</td>\n",
       "      <td>1</td>\n",
       "      <td>2</td>\n",
       "      <td>0</td>\n",
       "      <td>1</td>\n",
       "    </tr>\n",
       "    <tr>\n",
       "      <th>2</th>\n",
       "      <td>0</td>\n",
       "      <td>0</td>\n",
       "      <td>1</td>\n",
       "      <td>2</td>\n",
       "      <td>1</td>\n",
       "      <td>0</td>\n",
       "    </tr>\n",
       "    <tr>\n",
       "      <th>3</th>\n",
       "      <td>0</td>\n",
       "      <td>0</td>\n",
       "      <td>0</td>\n",
       "      <td>0</td>\n",
       "      <td>1</td>\n",
       "      <td>0</td>\n",
       "    </tr>\n",
       "    <tr>\n",
       "      <th>4</th>\n",
       "      <td>0</td>\n",
       "      <td>0</td>\n",
       "      <td>1</td>\n",
       "      <td>2</td>\n",
       "      <td>1</td>\n",
       "      <td>0</td>\n",
       "    </tr>\n",
       "  </tbody>\n",
       "</table>\n",
       "</div>"
      ],
      "text/plain": [
       "   term  gender  purpose  home_ownership  age  FICO\n",
       "0     0       0        1               0    1     0\n",
       "1     0       0        1               2    0     1\n",
       "2     0       0        1               2    1     0\n",
       "3     0       0        0               0    1     0\n",
       "4     0       0        1               2    1     0"
      ]
     },
     "execution_count": 26,
     "metadata": {},
     "output_type": "execute_result"
    }
   ],
   "source": [
    "X = ld_df.drop(\"Sdelinquent\", axis = 1)\n",
    "y = ld_df.pop(\"Sdelinquent\")\n",
    "X.head()"
   ]
  },
  {
   "cell_type": "code",
   "execution_count": 27,
   "id": "68ee20b8",
   "metadata": {},
   "outputs": [],
   "source": [
    "# Splitting data into training and test set"
   ]
  },
  {
   "cell_type": "code",
   "execution_count": 28,
   "id": "06b75ae3",
   "metadata": {},
   "outputs": [],
   "source": [
    "from sklearn.model_selection import train_test_split\n",
    "\n",
    "X_train, X_test, train_labels, test_labels = train_test_split(X, y, test_size = .30, random_state = 1)"
   ]
  },
  {
   "cell_type": "code",
   "execution_count": 29,
   "id": "3113e714",
   "metadata": {},
   "outputs": [],
   "source": [
    "# Checking the dimensions of the training and test data"
   ]
  },
  {
   "cell_type": "code",
   "execution_count": 30,
   "id": "12f5ceff",
   "metadata": {},
   "outputs": [
    {
     "name": "stdout",
     "output_type": "stream",
     "text": [
      "X_train (8083, 6)\n",
      "X_test (3465, 6)\n",
      "train_labels (8083,)\n",
      "test_labels (3465,)\n",
      "Total Obs 11548\n"
     ]
    }
   ],
   "source": [
    "print('X_train', X_train.shape)\n",
    "print('X_test',X_test.shape)\n",
    "print('train_labels',train_labels.shape)\n",
    "print('test_labels',test_labels.shape)\n",
    "print('Total Obs', 8083+3465)"
   ]
  },
  {
   "cell_type": "code",
   "execution_count": 31,
   "id": "51962219",
   "metadata": {},
   "outputs": [],
   "source": [
    "## Building a Decision Tree Classifier"
   ]
  },
  {
   "cell_type": "code",
   "execution_count": 32,
   "id": "13d2e528",
   "metadata": {},
   "outputs": [],
   "source": [
    "# Initialise a Decision Tree Classifier\n",
    "dt_model = DecisionTreeClassifier(criterion = 'gini', random_state = 1)"
   ]
  },
  {
   "cell_type": "code",
   "execution_count": 33,
   "id": "c8a2901a",
   "metadata": {},
   "outputs": [
    {
     "data": {
      "text/html": [
       "<style>#sk-container-id-1 {color: black;}#sk-container-id-1 pre{padding: 0;}#sk-container-id-1 div.sk-toggleable {background-color: white;}#sk-container-id-1 label.sk-toggleable__label {cursor: pointer;display: block;width: 100%;margin-bottom: 0;padding: 0.3em;box-sizing: border-box;text-align: center;}#sk-container-id-1 label.sk-toggleable__label-arrow:before {content: \"▸\";float: left;margin-right: 0.25em;color: #696969;}#sk-container-id-1 label.sk-toggleable__label-arrow:hover:before {color: black;}#sk-container-id-1 div.sk-estimator:hover label.sk-toggleable__label-arrow:before {color: black;}#sk-container-id-1 div.sk-toggleable__content {max-height: 0;max-width: 0;overflow: hidden;text-align: left;background-color: #f0f8ff;}#sk-container-id-1 div.sk-toggleable__content pre {margin: 0.2em;color: black;border-radius: 0.25em;background-color: #f0f8ff;}#sk-container-id-1 input.sk-toggleable__control:checked~div.sk-toggleable__content {max-height: 200px;max-width: 100%;overflow: auto;}#sk-container-id-1 input.sk-toggleable__control:checked~label.sk-toggleable__label-arrow:before {content: \"▾\";}#sk-container-id-1 div.sk-estimator input.sk-toggleable__control:checked~label.sk-toggleable__label {background-color: #d4ebff;}#sk-container-id-1 div.sk-label input.sk-toggleable__control:checked~label.sk-toggleable__label {background-color: #d4ebff;}#sk-container-id-1 input.sk-hidden--visually {border: 0;clip: rect(1px 1px 1px 1px);clip: rect(1px, 1px, 1px, 1px);height: 1px;margin: -1px;overflow: hidden;padding: 0;position: absolute;width: 1px;}#sk-container-id-1 div.sk-estimator {font-family: monospace;background-color: #f0f8ff;border: 1px dotted black;border-radius: 0.25em;box-sizing: border-box;margin-bottom: 0.5em;}#sk-container-id-1 div.sk-estimator:hover {background-color: #d4ebff;}#sk-container-id-1 div.sk-parallel-item::after {content: \"\";width: 100%;border-bottom: 1px solid gray;flex-grow: 1;}#sk-container-id-1 div.sk-label:hover label.sk-toggleable__label {background-color: #d4ebff;}#sk-container-id-1 div.sk-serial::before {content: \"\";position: absolute;border-left: 1px solid gray;box-sizing: border-box;top: 0;bottom: 0;left: 50%;z-index: 0;}#sk-container-id-1 div.sk-serial {display: flex;flex-direction: column;align-items: center;background-color: white;padding-right: 0.2em;padding-left: 0.2em;position: relative;}#sk-container-id-1 div.sk-item {position: relative;z-index: 1;}#sk-container-id-1 div.sk-parallel {display: flex;align-items: stretch;justify-content: center;background-color: white;position: relative;}#sk-container-id-1 div.sk-item::before, #sk-container-id-1 div.sk-parallel-item::before {content: \"\";position: absolute;border-left: 1px solid gray;box-sizing: border-box;top: 0;bottom: 0;left: 50%;z-index: -1;}#sk-container-id-1 div.sk-parallel-item {display: flex;flex-direction: column;z-index: 1;position: relative;background-color: white;}#sk-container-id-1 div.sk-parallel-item:first-child::after {align-self: flex-end;width: 50%;}#sk-container-id-1 div.sk-parallel-item:last-child::after {align-self: flex-start;width: 50%;}#sk-container-id-1 div.sk-parallel-item:only-child::after {width: 0;}#sk-container-id-1 div.sk-dashed-wrapped {border: 1px dashed gray;margin: 0 0.4em 0.5em 0.4em;box-sizing: border-box;padding-bottom: 0.4em;background-color: white;}#sk-container-id-1 div.sk-label label {font-family: monospace;font-weight: bold;display: inline-block;line-height: 1.2em;}#sk-container-id-1 div.sk-label-container {text-align: center;}#sk-container-id-1 div.sk-container {/* jupyter's `normalize.less` sets `[hidden] { display: none; }` but bootstrap.min.css set `[hidden] { display: none !important; }` so we also need the `!important` here to be able to override the default hidden behavior on the sphinx rendered scikit-learn.org. See: https://github.com/scikit-learn/scikit-learn/issues/21755 */display: inline-block !important;position: relative;}#sk-container-id-1 div.sk-text-repr-fallback {display: none;}</style><div id=\"sk-container-id-1\" class=\"sk-top-container\"><div class=\"sk-text-repr-fallback\"><pre>DecisionTreeClassifier(random_state=1)</pre><b>In a Jupyter environment, please rerun this cell to show the HTML representation or trust the notebook. <br />On GitHub, the HTML representation is unable to render, please try loading this page with nbviewer.org.</b></div><div class=\"sk-container\" hidden><div class=\"sk-item\"><div class=\"sk-estimator sk-toggleable\"><input class=\"sk-toggleable__control sk-hidden--visually\" id=\"sk-estimator-id-1\" type=\"checkbox\" checked><label for=\"sk-estimator-id-1\" class=\"sk-toggleable__label sk-toggleable__label-arrow\">DecisionTreeClassifier</label><div class=\"sk-toggleable__content\"><pre>DecisionTreeClassifier(random_state=1)</pre></div></div></div></div></div>"
      ],
      "text/plain": [
       "DecisionTreeClassifier(random_state=1)"
      ]
     },
     "execution_count": 33,
     "metadata": {},
     "output_type": "execute_result"
    }
   ],
   "source": [
    "# fit the model\n",
    "dt_model.fit(X_train, train_labels)"
   ]
  },
  {
   "cell_type": "code",
   "execution_count": 34,
   "id": "ce4f1334",
   "metadata": {},
   "outputs": [
    {
     "data": {
      "text/html": [
       "<style>#sk-container-id-2 {color: black;}#sk-container-id-2 pre{padding: 0;}#sk-container-id-2 div.sk-toggleable {background-color: white;}#sk-container-id-2 label.sk-toggleable__label {cursor: pointer;display: block;width: 100%;margin-bottom: 0;padding: 0.3em;box-sizing: border-box;text-align: center;}#sk-container-id-2 label.sk-toggleable__label-arrow:before {content: \"▸\";float: left;margin-right: 0.25em;color: #696969;}#sk-container-id-2 label.sk-toggleable__label-arrow:hover:before {color: black;}#sk-container-id-2 div.sk-estimator:hover label.sk-toggleable__label-arrow:before {color: black;}#sk-container-id-2 div.sk-toggleable__content {max-height: 0;max-width: 0;overflow: hidden;text-align: left;background-color: #f0f8ff;}#sk-container-id-2 div.sk-toggleable__content pre {margin: 0.2em;color: black;border-radius: 0.25em;background-color: #f0f8ff;}#sk-container-id-2 input.sk-toggleable__control:checked~div.sk-toggleable__content {max-height: 200px;max-width: 100%;overflow: auto;}#sk-container-id-2 input.sk-toggleable__control:checked~label.sk-toggleable__label-arrow:before {content: \"▾\";}#sk-container-id-2 div.sk-estimator input.sk-toggleable__control:checked~label.sk-toggleable__label {background-color: #d4ebff;}#sk-container-id-2 div.sk-label input.sk-toggleable__control:checked~label.sk-toggleable__label {background-color: #d4ebff;}#sk-container-id-2 input.sk-hidden--visually {border: 0;clip: rect(1px 1px 1px 1px);clip: rect(1px, 1px, 1px, 1px);height: 1px;margin: -1px;overflow: hidden;padding: 0;position: absolute;width: 1px;}#sk-container-id-2 div.sk-estimator {font-family: monospace;background-color: #f0f8ff;border: 1px dotted black;border-radius: 0.25em;box-sizing: border-box;margin-bottom: 0.5em;}#sk-container-id-2 div.sk-estimator:hover {background-color: #d4ebff;}#sk-container-id-2 div.sk-parallel-item::after {content: \"\";width: 100%;border-bottom: 1px solid gray;flex-grow: 1;}#sk-container-id-2 div.sk-label:hover label.sk-toggleable__label {background-color: #d4ebff;}#sk-container-id-2 div.sk-serial::before {content: \"\";position: absolute;border-left: 1px solid gray;box-sizing: border-box;top: 0;bottom: 0;left: 50%;z-index: 0;}#sk-container-id-2 div.sk-serial {display: flex;flex-direction: column;align-items: center;background-color: white;padding-right: 0.2em;padding-left: 0.2em;position: relative;}#sk-container-id-2 div.sk-item {position: relative;z-index: 1;}#sk-container-id-2 div.sk-parallel {display: flex;align-items: stretch;justify-content: center;background-color: white;position: relative;}#sk-container-id-2 div.sk-item::before, #sk-container-id-2 div.sk-parallel-item::before {content: \"\";position: absolute;border-left: 1px solid gray;box-sizing: border-box;top: 0;bottom: 0;left: 50%;z-index: -1;}#sk-container-id-2 div.sk-parallel-item {display: flex;flex-direction: column;z-index: 1;position: relative;background-color: white;}#sk-container-id-2 div.sk-parallel-item:first-child::after {align-self: flex-end;width: 50%;}#sk-container-id-2 div.sk-parallel-item:last-child::after {align-self: flex-start;width: 50%;}#sk-container-id-2 div.sk-parallel-item:only-child::after {width: 0;}#sk-container-id-2 div.sk-dashed-wrapped {border: 1px dashed gray;margin: 0 0.4em 0.5em 0.4em;box-sizing: border-box;padding-bottom: 0.4em;background-color: white;}#sk-container-id-2 div.sk-label label {font-family: monospace;font-weight: bold;display: inline-block;line-height: 1.2em;}#sk-container-id-2 div.sk-label-container {text-align: center;}#sk-container-id-2 div.sk-container {/* jupyter's `normalize.less` sets `[hidden] { display: none; }` but bootstrap.min.css set `[hidden] { display: none !important; }` so we also need the `!important` here to be able to override the default hidden behavior on the sphinx rendered scikit-learn.org. See: https://github.com/scikit-learn/scikit-learn/issues/21755 */display: inline-block !important;position: relative;}#sk-container-id-2 div.sk-text-repr-fallback {display: none;}</style><div id=\"sk-container-id-2\" class=\"sk-top-container\"><div class=\"sk-text-repr-fallback\"><pre>DecisionTreeClassifier(random_state=1)</pre><b>In a Jupyter environment, please rerun this cell to show the HTML representation or trust the notebook. <br />On GitHub, the HTML representation is unable to render, please try loading this page with nbviewer.org.</b></div><div class=\"sk-container\" hidden><div class=\"sk-item\"><div class=\"sk-estimator sk-toggleable\"><input class=\"sk-toggleable__control sk-hidden--visually\" id=\"sk-estimator-id-2\" type=\"checkbox\" checked><label for=\"sk-estimator-id-2\" class=\"sk-toggleable__label sk-toggleable__label-arrow\">DecisionTreeClassifier</label><div class=\"sk-toggleable__content\"><pre>DecisionTreeClassifier(random_state=1)</pre></div></div></div></div></div>"
      ],
      "text/plain": [
       "DecisionTreeClassifier(random_state=1)"
      ]
     },
     "execution_count": 34,
     "metadata": {},
     "output_type": "execute_result"
    }
   ],
   "source": [
    "DecisionTreeClassifier(random_state = 1)"
   ]
  },
  {
   "cell_type": "code",
   "execution_count": 36,
   "id": "ea59da1c",
   "metadata": {},
   "outputs": [],
   "source": [
    "from sklearn import tree\n",
    "\n",
    "train_char_label  = ['No', 'Yes']\n",
    "ld_Tree_File = open('ld_Tree_file.dot','w')\n",
    "dot_data = tree.export_graphviz(dt_model,\n",
    "                              out_file=ld_Tree_File,\n",
    "                              feature_names = list(X_train),\n",
    "                              class_names = list(train_char_label))\n",
    "\n",
    "ld_Tree_File.close()"
   ]
  },
  {
   "cell_type": "code",
   "execution_count": 37,
   "id": "2e02d964",
   "metadata": {},
   "outputs": [],
   "source": [
    "## Variable Importance"
   ]
  },
  {
   "cell_type": "code",
   "execution_count": 39,
   "id": "94166475",
   "metadata": {},
   "outputs": [
    {
     "name": "stdout",
     "output_type": "stream",
     "text": [
      "                     Imp\n",
      "FICO            0.393915\n",
      "term            0.370052\n",
      "gender          0.158664\n",
      "age             0.055813\n",
      "purpose         0.010924\n",
      "home_ownership  0.010633\n"
     ]
    }
   ],
   "source": [
    "print(pd.DataFrame(dt_model.feature_importances_, columns = [\"Imp\"], index = X_train.columns).sort_values('Imp',ascending=False))"
   ]
  },
  {
   "cell_type": "code",
   "execution_count": 40,
   "id": "1593d853",
   "metadata": {},
   "outputs": [],
   "source": [
    "# Predicting test Data"
   ]
  },
  {
   "cell_type": "code",
   "execution_count": 41,
   "id": "8e5e3cc4",
   "metadata": {},
   "outputs": [],
   "source": [
    "y_predict = dt_model.predict(X_test)"
   ]
  },
  {
   "cell_type": "code",
   "execution_count": 42,
   "id": "c2a571bd",
   "metadata": {},
   "outputs": [
    {
     "data": {
      "text/plain": [
       "(3465,)"
      ]
     },
     "execution_count": 42,
     "metadata": {},
     "output_type": "execute_result"
    }
   ],
   "source": [
    "y_predict.shape"
   ]
  },
  {
   "cell_type": "code",
   "execution_count": 43,
   "id": "77760e59",
   "metadata": {},
   "outputs": [],
   "source": [
    "# Regularising the Decision Tree"
   ]
  },
  {
   "cell_type": "code",
   "execution_count": 44,
   "id": "2751f31e",
   "metadata": {},
   "outputs": [],
   "source": [
    "# adding Tuning Parameters"
   ]
  },
  {
   "cell_type": "code",
   "execution_count": 47,
   "id": "74c4b39a",
   "metadata": {},
   "outputs": [
    {
     "data": {
      "text/html": [
       "<style>#sk-container-id-3 {color: black;}#sk-container-id-3 pre{padding: 0;}#sk-container-id-3 div.sk-toggleable {background-color: white;}#sk-container-id-3 label.sk-toggleable__label {cursor: pointer;display: block;width: 100%;margin-bottom: 0;padding: 0.3em;box-sizing: border-box;text-align: center;}#sk-container-id-3 label.sk-toggleable__label-arrow:before {content: \"▸\";float: left;margin-right: 0.25em;color: #696969;}#sk-container-id-3 label.sk-toggleable__label-arrow:hover:before {color: black;}#sk-container-id-3 div.sk-estimator:hover label.sk-toggleable__label-arrow:before {color: black;}#sk-container-id-3 div.sk-toggleable__content {max-height: 0;max-width: 0;overflow: hidden;text-align: left;background-color: #f0f8ff;}#sk-container-id-3 div.sk-toggleable__content pre {margin: 0.2em;color: black;border-radius: 0.25em;background-color: #f0f8ff;}#sk-container-id-3 input.sk-toggleable__control:checked~div.sk-toggleable__content {max-height: 200px;max-width: 100%;overflow: auto;}#sk-container-id-3 input.sk-toggleable__control:checked~label.sk-toggleable__label-arrow:before {content: \"▾\";}#sk-container-id-3 div.sk-estimator input.sk-toggleable__control:checked~label.sk-toggleable__label {background-color: #d4ebff;}#sk-container-id-3 div.sk-label input.sk-toggleable__control:checked~label.sk-toggleable__label {background-color: #d4ebff;}#sk-container-id-3 input.sk-hidden--visually {border: 0;clip: rect(1px 1px 1px 1px);clip: rect(1px, 1px, 1px, 1px);height: 1px;margin: -1px;overflow: hidden;padding: 0;position: absolute;width: 1px;}#sk-container-id-3 div.sk-estimator {font-family: monospace;background-color: #f0f8ff;border: 1px dotted black;border-radius: 0.25em;box-sizing: border-box;margin-bottom: 0.5em;}#sk-container-id-3 div.sk-estimator:hover {background-color: #d4ebff;}#sk-container-id-3 div.sk-parallel-item::after {content: \"\";width: 100%;border-bottom: 1px solid gray;flex-grow: 1;}#sk-container-id-3 div.sk-label:hover label.sk-toggleable__label {background-color: #d4ebff;}#sk-container-id-3 div.sk-serial::before {content: \"\";position: absolute;border-left: 1px solid gray;box-sizing: border-box;top: 0;bottom: 0;left: 50%;z-index: 0;}#sk-container-id-3 div.sk-serial {display: flex;flex-direction: column;align-items: center;background-color: white;padding-right: 0.2em;padding-left: 0.2em;position: relative;}#sk-container-id-3 div.sk-item {position: relative;z-index: 1;}#sk-container-id-3 div.sk-parallel {display: flex;align-items: stretch;justify-content: center;background-color: white;position: relative;}#sk-container-id-3 div.sk-item::before, #sk-container-id-3 div.sk-parallel-item::before {content: \"\";position: absolute;border-left: 1px solid gray;box-sizing: border-box;top: 0;bottom: 0;left: 50%;z-index: -1;}#sk-container-id-3 div.sk-parallel-item {display: flex;flex-direction: column;z-index: 1;position: relative;background-color: white;}#sk-container-id-3 div.sk-parallel-item:first-child::after {align-self: flex-end;width: 50%;}#sk-container-id-3 div.sk-parallel-item:last-child::after {align-self: flex-start;width: 50%;}#sk-container-id-3 div.sk-parallel-item:only-child::after {width: 0;}#sk-container-id-3 div.sk-dashed-wrapped {border: 1px dashed gray;margin: 0 0.4em 0.5em 0.4em;box-sizing: border-box;padding-bottom: 0.4em;background-color: white;}#sk-container-id-3 div.sk-label label {font-family: monospace;font-weight: bold;display: inline-block;line-height: 1.2em;}#sk-container-id-3 div.sk-label-container {text-align: center;}#sk-container-id-3 div.sk-container {/* jupyter's `normalize.less` sets `[hidden] { display: none; }` but bootstrap.min.css set `[hidden] { display: none !important; }` so we also need the `!important` here to be able to override the default hidden behavior on the sphinx rendered scikit-learn.org. See: https://github.com/scikit-learn/scikit-learn/issues/21755 */display: inline-block !important;position: relative;}#sk-container-id-3 div.sk-text-repr-fallback {display: none;}</style><div id=\"sk-container-id-3\" class=\"sk-top-container\"><div class=\"sk-text-repr-fallback\"><pre>DecisionTreeClassifier(max_depth=30, min_samples_leaf=100,\n",
       "                       min_samples_split=1000, random_state=1)</pre><b>In a Jupyter environment, please rerun this cell to show the HTML representation or trust the notebook. <br />On GitHub, the HTML representation is unable to render, please try loading this page with nbviewer.org.</b></div><div class=\"sk-container\" hidden><div class=\"sk-item\"><div class=\"sk-estimator sk-toggleable\"><input class=\"sk-toggleable__control sk-hidden--visually\" id=\"sk-estimator-id-3\" type=\"checkbox\" checked><label for=\"sk-estimator-id-3\" class=\"sk-toggleable__label sk-toggleable__label-arrow\">DecisionTreeClassifier</label><div class=\"sk-toggleable__content\"><pre>DecisionTreeClassifier(max_depth=30, min_samples_leaf=100,\n",
       "                       min_samples_split=1000, random_state=1)</pre></div></div></div></div></div>"
      ],
      "text/plain": [
       "DecisionTreeClassifier(max_depth=30, min_samples_leaf=100,\n",
       "                       min_samples_split=1000, random_state=1)"
      ]
     },
     "execution_count": 47,
     "metadata": {},
     "output_type": "execute_result"
    }
   ],
   "source": [
    "reg_dt_model = DecisionTreeClassifier(criterion = 'gini', max_depth = 30,min_samples_leaf=100,min_samples_split=1000,random_state=1)\n",
    "reg_dt_model.fit(X_train, train_labels)"
   ]
  },
  {
   "cell_type": "code",
   "execution_count": 48,
   "id": "771a2f95",
   "metadata": {},
   "outputs": [],
   "source": [
    "# Generating New Tree"
   ]
  },
  {
   "cell_type": "code",
   "execution_count": 49,
   "id": "d442b790",
   "metadata": {},
   "outputs": [],
   "source": [
    "ld_tree_regularized = open('ld_tree_regularized.dot','w')\n",
    "dot_data = tree.export_graphviz(reg_dt_model, out_file= ld_tree_regularized, feature_names = list(X_train), class_names = list(train_char_label))\n",
    "\n",
    "ld_tree_regularized.close()\n",
    "dot_data"
   ]
  },
  {
   "cell_type": "code",
   "execution_count": 50,
   "id": "1014c25b",
   "metadata": {},
   "outputs": [],
   "source": [
    "# Variable Importance"
   ]
  },
  {
   "cell_type": "code",
   "execution_count": 53,
   "id": "bd5b3688",
   "metadata": {},
   "outputs": [
    {
     "name": "stdout",
     "output_type": "stream",
     "text": [
      "                     Imp\n",
      "FICO            0.424274\n",
      "term            0.339141\n",
      "gender          0.169328\n",
      "age             0.060114\n",
      "home_ownership  0.003659\n",
      "purpose         0.003483\n"
     ]
    }
   ],
   "source": [
    "print(pd.DataFrame(reg_dt_model.feature_importances_, columns = [\"Imp\"], index = X_train.columns).sort_values('Imp',ascending = False))"
   ]
  },
  {
   "cell_type": "code",
   "execution_count": 54,
   "id": "72d2c2e4",
   "metadata": {},
   "outputs": [],
   "source": [
    "# Predicting on Training and Test dataset"
   ]
  },
  {
   "cell_type": "code",
   "execution_count": 55,
   "id": "ec1f6c89",
   "metadata": {},
   "outputs": [],
   "source": [
    "ytrain_predict = reg_dt_model.predict(X_train)\n",
    "ytest_predict = reg_dt_model.predict(X_test)"
   ]
  },
  {
   "cell_type": "code",
   "execution_count": 56,
   "id": "7c8b3db9",
   "metadata": {},
   "outputs": [
    {
     "name": "stdout",
     "output_type": "stream",
     "text": [
      "ytrain_predict (8083,)\n",
      "ytest_predict (3465,)\n"
     ]
    }
   ],
   "source": [
    "print('ytrain_predict', ytrain_predict.shape)\n",
    "print('ytest_predict',ytest_predict.shape)"
   ]
  },
  {
   "cell_type": "code",
   "execution_count": 57,
   "id": "7a914517",
   "metadata": {},
   "outputs": [],
   "source": [
    "# Getting the Predicted Classes"
   ]
  },
  {
   "cell_type": "code",
   "execution_count": 58,
   "id": "1872c731",
   "metadata": {},
   "outputs": [
    {
     "data": {
      "text/plain": [
       "array([1, 1, 0, ..., 1, 1, 1], dtype=int64)"
      ]
     },
     "execution_count": 58,
     "metadata": {},
     "output_type": "execute_result"
    }
   ],
   "source": [
    "ytest_predict"
   ]
  },
  {
   "cell_type": "code",
   "execution_count": 59,
   "id": "3bf9dece",
   "metadata": {},
   "outputs": [],
   "source": [
    "# Getting the Predicted Probabilities"
   ]
  },
  {
   "cell_type": "code",
   "execution_count": 60,
   "id": "e7acd802",
   "metadata": {},
   "outputs": [
    {
     "data": {
      "text/plain": [
       "array([[0.12938331, 0.87061669],\n",
       "       [0.        , 1.        ],\n",
       "       [0.75366876, 0.24633124],\n",
       "       ...,\n",
       "       [0.        , 1.        ],\n",
       "       [0.16071429, 0.83928571],\n",
       "       [0.22881356, 0.77118644]])"
      ]
     },
     "execution_count": 60,
     "metadata": {},
     "output_type": "execute_result"
    }
   ],
   "source": [
    "ytest_predict_prob = reg_dt_model.predict_proba(X_test)\n",
    "ytest_predict_prob"
   ]
  },
  {
   "cell_type": "code",
   "execution_count": 61,
   "id": "f70b0dcd",
   "metadata": {},
   "outputs": [
    {
     "data": {
      "text/html": [
       "<div>\n",
       "<style scoped>\n",
       "    .dataframe tbody tr th:only-of-type {\n",
       "        vertical-align: middle;\n",
       "    }\n",
       "\n",
       "    .dataframe tbody tr th {\n",
       "        vertical-align: top;\n",
       "    }\n",
       "\n",
       "    .dataframe thead th {\n",
       "        text-align: right;\n",
       "    }\n",
       "</style>\n",
       "<table border=\"1\" class=\"dataframe\">\n",
       "  <thead>\n",
       "    <tr style=\"text-align: right;\">\n",
       "      <th></th>\n",
       "      <th>0</th>\n",
       "      <th>1</th>\n",
       "    </tr>\n",
       "  </thead>\n",
       "  <tbody>\n",
       "    <tr>\n",
       "      <th>0</th>\n",
       "      <td>0.129383</td>\n",
       "      <td>0.870617</td>\n",
       "    </tr>\n",
       "    <tr>\n",
       "      <th>1</th>\n",
       "      <td>0.000000</td>\n",
       "      <td>1.000000</td>\n",
       "    </tr>\n",
       "    <tr>\n",
       "      <th>2</th>\n",
       "      <td>0.753669</td>\n",
       "      <td>0.246331</td>\n",
       "    </tr>\n",
       "    <tr>\n",
       "      <th>3</th>\n",
       "      <td>0.753669</td>\n",
       "      <td>0.246331</td>\n",
       "    </tr>\n",
       "    <tr>\n",
       "      <th>4</th>\n",
       "      <td>0.136986</td>\n",
       "      <td>0.863014</td>\n",
       "    </tr>\n",
       "  </tbody>\n",
       "</table>\n",
       "</div>"
      ],
      "text/plain": [
       "          0         1\n",
       "0  0.129383  0.870617\n",
       "1  0.000000  1.000000\n",
       "2  0.753669  0.246331\n",
       "3  0.753669  0.246331\n",
       "4  0.136986  0.863014"
      ]
     },
     "execution_count": 61,
     "metadata": {},
     "output_type": "execute_result"
    }
   ],
   "source": [
    "pd.DataFrame(ytest_predict_prob).head()"
   ]
  },
  {
   "cell_type": "markdown",
   "id": "7a015387",
   "metadata": {},
   "source": [
    "## Model Evaluation"
   ]
  },
  {
   "cell_type": "code",
   "execution_count": 62,
   "id": "ec32afd2",
   "metadata": {},
   "outputs": [],
   "source": [
    "## Measuring AUC - ROC Curve"
   ]
  },
  {
   "cell_type": "code",
   "execution_count": 63,
   "id": "08bf38c2",
   "metadata": {},
   "outputs": [],
   "source": [
    "import matplotlib.pyplot as plt"
   ]
  },
  {
   "cell_type": "code",
   "execution_count": 64,
   "id": "01baf4d8",
   "metadata": {},
   "outputs": [],
   "source": [
    "## AUC and ROC for the training data"
   ]
  },
  {
   "cell_type": "code",
   "execution_count": 65,
   "id": "101cf33f",
   "metadata": {},
   "outputs": [
    {
     "name": "stdout",
     "output_type": "stream",
     "text": [
      "AUC: 0.879\n"
     ]
    },
    {
     "data": {
      "image/png": "[encoded data removed]",
      "text/plain": [
       "<Figure size 640x480 with 1 Axes>"
      ]
     },
     "metadata": {},
     "output_type": "display_data"
    }
   ],
   "source": [
    "# predict probabilities\n",
    "probs = reg_dt_model.predict_proba(X_train)\n",
    "# keep probabilities for the positive outcome only\n",
    "probs = probs[:, 1]\n",
    "# calculate AUC\n",
    "from sklearn.metrics import roc_auc_score\n",
    "auc = roc_auc_score(train_labels, probs)\n",
    "print('AUC: %.3f' % auc)\n",
    "# calculate roc curve\n",
    "from sklearn.metrics import roc_curve\n",
    "fpr, tpr, thresholds = roc_curve(train_labels, probs)\n",
    "plt.plot([0, 1], [0, 1], linestyle='--')\n",
    "# plot the roc curve for the model\n",
    "plt.plot(fpr, tpr, marker='.')\n",
    "# show the plot\n",
    "plt.show()\n",
    "      "
   ]
  },
  {
   "cell_type": "code",
   "execution_count": 66,
   "id": "9528cfe0",
   "metadata": {},
   "outputs": [],
   "source": [
    "## AUC and ROC for the test data"
   ]
  },
  {
   "cell_type": "code",
   "execution_count": 67,
   "id": "cc3e0ab0",
   "metadata": {},
   "outputs": [
    {
     "name": "stdout",
     "output_type": "stream",
     "text": [
      "AUC: 0.881\n"
     ]
    },
    {
     "data": {
      "image/png": "[encoded data removed]",
      "text/plain": [
       "<Figure size 640x480 with 1 Axes>"
      ]
     },
     "metadata": {},
     "output_type": "display_data"
    }
   ],
   "source": [
    "# predict probabilities\n",
    "probs = reg_dt_model.predict_proba(X_test)\n",
    "# keep probabilities for the positive outcome only\n",
    "probs = probs[:, 1]\n",
    "# calculate AUC\n",
    "from sklearn.metrics import roc_auc_score\n",
    "auc = roc_auc_score(test_labels, probs)\n",
    "print('AUC: %.3f' % auc)\n",
    "# calculate roc curve\n",
    "from sklearn.metrics import roc_curve\n",
    "fpr, tpr, thresholds = roc_curve(test_labels, probs)\n",
    "plt.plot([0, 1], [0, 1], linestyle='--')\n",
    "# plot the roc curve for the model\n",
    "plt.plot(fpr, tpr, marker='.')\n",
    "# show the plot\n",
    "plt.show()"
   ]
  },
  {
   "cell_type": "code",
   "execution_count": 68,
   "id": "27229dcc",
   "metadata": {},
   "outputs": [],
   "source": [
    "# Confusion Matrix for the training data"
   ]
  },
  {
   "cell_type": "code",
   "execution_count": 69,
   "id": "d0b5b71a",
   "metadata": {},
   "outputs": [],
   "source": [
    "from sklearn.metrics import classification_report,confusion_matrix"
   ]
  },
  {
   "cell_type": "code",
   "execution_count": 70,
   "id": "b3bf7510",
   "metadata": {},
   "outputs": [
    {
     "data": {
      "text/plain": [
       "array([[1985,  650],\n",
       "       [ 706, 4742]], dtype=int64)"
      ]
     },
     "execution_count": 70,
     "metadata": {},
     "output_type": "execute_result"
    }
   ],
   "source": [
    "confusion_matrix(train_labels, ytrain_predict)"
   ]
  },
  {
   "cell_type": "code",
   "execution_count": 71,
   "id": "34501d6e",
   "metadata": {},
   "outputs": [
    {
     "data": {
      "text/plain": [
       "0.832240504763083"
      ]
     },
     "execution_count": 71,
     "metadata": {},
     "output_type": "execute_result"
    }
   ],
   "source": [
    "#Train Data Accuracy\n",
    "reg_dt_model.score(X_train,train_labels) "
   ]
  },
  {
   "cell_type": "code",
   "execution_count": 72,
   "id": "6ee70aa6",
   "metadata": {},
   "outputs": [
    {
     "name": "stdout",
     "output_type": "stream",
     "text": [
      "0.832240504763083\n"
     ]
    }
   ],
   "source": [
    "print((1985+4742)/(1985+650+706+4742))"
   ]
  },
  {
   "cell_type": "code",
   "execution_count": 73,
   "id": "1e236df0",
   "metadata": {},
   "outputs": [
    {
     "name": "stdout",
     "output_type": "stream",
     "text": [
      "              precision    recall  f1-score   support\n",
      "\n",
      "           0       0.74      0.75      0.75      2635\n",
      "           1       0.88      0.87      0.87      5448\n",
      "\n",
      "    accuracy                           0.83      8083\n",
      "   macro avg       0.81      0.81      0.81      8083\n",
      "weighted avg       0.83      0.83      0.83      8083\n",
      "\n"
     ]
    }
   ],
   "source": [
    "print(classification_report(train_labels, ytrain_predict))"
   ]
  },
  {
   "cell_type": "code",
   "execution_count": 74,
   "id": "12814fbf",
   "metadata": {},
   "outputs": [],
   "source": [
    "## Confusion Matrix for test data"
   ]
  },
  {
   "cell_type": "code",
   "execution_count": 75,
   "id": "263c4bf5",
   "metadata": {},
   "outputs": [
    {
     "data": {
      "text/plain": [
       "array([[ 922,  270],\n",
       "       [ 332, 1941]], dtype=int64)"
      ]
     },
     "execution_count": 75,
     "metadata": {},
     "output_type": "execute_result"
    }
   ],
   "source": [
    "confusion_matrix(test_labels, ytest_predict)"
   ]
  },
  {
   "cell_type": "code",
   "execution_count": 76,
   "id": "afb71261",
   "metadata": {},
   "outputs": [
    {
     "data": {
      "text/plain": [
       "0.8262626262626263"
      ]
     },
     "execution_count": 76,
     "metadata": {},
     "output_type": "execute_result"
    }
   ],
   "source": [
    "#Test Data Accuracy\n",
    "reg_dt_model.score(X_test,test_labels)"
   ]
  },
  {
   "cell_type": "code",
   "execution_count": 77,
   "id": "3873b85a",
   "metadata": {},
   "outputs": [
    {
     "name": "stdout",
     "output_type": "stream",
     "text": [
      "0.8262626262626263\n"
     ]
    }
   ],
   "source": [
    "print((922+1941)/(922+270+332+1941))"
   ]
  },
  {
   "cell_type": "code",
   "execution_count": 78,
   "id": "f13eac81",
   "metadata": {},
   "outputs": [
    {
     "name": "stdout",
     "output_type": "stream",
     "text": [
      "              precision    recall  f1-score   support\n",
      "\n",
      "           0       0.74      0.77      0.75      1192\n",
      "           1       0.88      0.85      0.87      2273\n",
      "\n",
      "    accuracy                           0.83      3465\n",
      "   macro avg       0.81      0.81      0.81      3465\n",
      "weighted avg       0.83      0.83      0.83      3465\n",
      "\n"
     ]
    }
   ],
   "source": [
    "print(classification_report(test_labels, ytest_predict))"
   ]
  },
  {
   "cell_type": "markdown",
   "id": "d0ab3e95",
   "metadata": {},
   "source": [
    "## Conclusion\n",
    "\n",
    "Accuracy on the Training Data: 83%\n",
    "Accuracy on the Test Data: 82%\n",
    "\n",
    "AUC on the Training Data: 87.9%\n",
    "AUC on the Test: 88.1%\n",
    "\n",
    "Accuracy, AUC, Precision and Recall for test data is almost inline with training data.\n",
    "This proves no overfitting or underfitting has happened, and overall the model is a good model for classification\n",
    "\n",
    "FICO, term and gender (in same order of preference) are the most important variables in determining if a borrower will get into a delinquent stage"
   ]
  },
  {
   "cell_type": "code",
   "execution_count": null,
   "id": "63665f4d",
   "metadata": {},
   "outputs": [],
   "source": []
  }
 ],
 "metadata": {
  "kernelspec": {
   "display_name": "Python 3 (ipykernel)",
   "language": "python",
   "name": "python3"
  },
  "language_info": {
   "codemirror_mode": {
    "name": "ipython",
    "version": 3
   },
   "file_extension": ".py",
   "mimetype": "text/x-python",
   "name": "python",
   "nbconvert_exporter": "python",
   "pygments_lexer": "ipython3",
   "version": "3.11.5"
  }
 },
 "nbformat": 4,
 "nbformat_minor": 5
}
