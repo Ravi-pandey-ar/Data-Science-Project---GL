{
 "cells": [
  {
   "cell_type": "code",
   "execution_count": 1,
   "id": "77fc6255",
   "metadata": {},
   "outputs": [],
   "source": [
    "import numpy as np\n",
    "import pandas as pd\n",
    "from scipy.stats import f\n",
    "import matplotlib.pyplot as plt \n",
    "%matplotlib inline\n",
    "import seaborn as sns\n",
    "import scipy.stats as stats\n",
    "from scipy.stats import ttest_1samp, ttest_ind\n",
    "from statsmodels.stats.power import ttest_power"
   ]
  },
  {
   "cell_type": "markdown",
   "id": "2dac83c8",
   "metadata": {},
   "source": [
    "Q1. Tom is working in a credit card processing company as a team leader. His team is responsible to validate certain data for new credit card applications. The time spent by his team on an application is normally distributed with average 300 minutes and standard deviation 40 minutes.Tom and his team worked on process improvement to reduce the time spent in processing new applications. After implementing the improvements, Tom checked the time spent by his team on randomly selected 25 new card applications. The average time spent is 290 min. Tom is happy that, though it is a small improvement, it is a step in right direction. He shares the good news with his manager Lisa. But Lisa in not convinced about the improvement. At 95% confidence, is the processes really improved?"
   ]
  },
  {
   "cell_type": "markdown",
   "id": "0a56f64e",
   "metadata": {},
   "source": [
    "Step 1: Given: n = 25, x¯¯ = 290, σ = 40, μ = 300\n",
    "\n",
    "• Step 2: Let us formulate the hypothesis. H0 (null hypothesis): μ (population mean) = 300\n",
    "\n",
    "H1 (alternate hypothesis): μ (population mean) < 300\n",
    "\n",
    "[this is an example of a one-tailed test]\n",
    "\n",
    "• Step 3: Define the test statistic based on the information in the question. Here, we are going to use the Zstat .\n",
    "\n",
    "Let us calculate the value of the test statistic."
   ]
  },
  {
   "cell_type": "code",
   "execution_count": 2,
   "id": "62271a8a",
   "metadata": {},
   "outputs": [
    {
     "data": {
      "text/plain": [
       "-1.25"
      ]
     },
     "execution_count": 2,
     "metadata": {},
     "output_type": "execute_result"
    }
   ],
   "source": [
    "z = ((290-300)/(40/np.sqrt(25)))\n",
    "z"
   ]
  },
  {
   "cell_type": "markdown",
   "id": "0c1ebc60",
   "metadata": {},
   "source": [
    "From the value of the Zstat , we understand that this is a lower tailed-test.\n",
    "\n",
    "• Step 4.1: Let us check the critical value with respect to α for the test statistic."
   ]
  },
  {
   "cell_type": "code",
   "execution_count": 3,
   "id": "8f18df7b",
   "metadata": {},
   "outputs": [
    {
     "name": "stdout",
     "output_type": "stream",
     "text": [
      "-1.6448536269514729\n"
     ]
    }
   ],
   "source": [
    "# #The following code snippet helps us to calculate the value of the z-statistic from the z-table.\n",
    "\n",
    "cv = stats.norm.ppf(0.05,0,1)\n",
    "print(cv)"
   ]
  },
  {
   "cell_type": "markdown",
   "id": "99019a60",
   "metadata": {},
   "source": [
    "Here, the calculated Zstat value is less than -1.64. Thus, this value does not fall in the rejection region.\n",
    "\n",
    "Hence, we are failing to reject the H0 i.e accept the Null Hypothesis. μ (population mean) is equal to 300."
   ]
  },
  {
   "cell_type": "markdown",
   "id": "76053068",
   "metadata": {},
   "source": [
    "  • Step 4.2: Let us calculate the p-value and compare it with α ."
   ]
  },
  {
   "cell_type": "code",
   "execution_count": 4,
   "id": "1e5209be",
   "metadata": {},
   "outputs": [
    {
     "data": {
      "text/plain": [
       "0.10564977366685535"
      ]
     },
     "execution_count": 4,
     "metadata": {},
     "output_type": "execute_result"
    }
   ],
   "source": [
    "p_value = stats.norm.sf(abs(z))\n",
    "p_value"
   ]
  },
  {
   "cell_type": "code",
   "execution_count": 5,
   "id": "ce239bd7",
   "metadata": {},
   "outputs": [
    {
     "data": {
      "text/plain": [
       "0.10564977366685535"
      ]
     },
     "execution_count": 5,
     "metadata": {},
     "output_type": "execute_result"
    }
   ],
   "source": [
    "1 - stats.norm.cdf(abs(z))"
   ]
  },
  {
   "cell_type": "markdown",
   "id": "69bc58f9",
   "metadata": {},
   "source": [
    "We see that the p-value > α . Thus, it is confirmed we are failing to reject the the null hypothesis.\n",
    "\n",
    "With 95% confidence, we are able to accept the Null Hypothesis."
   ]
  },
  {
   "cell_type": "markdown",
   "id": "b5dc6fa0",
   "metadata": {},
   "source": [
    "## Question 2\n",
    "Q2.The Titan Insurance Company has just installed a new incentive payment scheme for its life policy sales-force. It wants to have an early view of the success or failure of the new scheme. Indications are that the sales force is selling more policies but sales always vary in an unpredictable pattern from month to month and it is not clear that the scheme has made a significant difference. Life Insurance companies typically measure the monthly output of a salesperson as the total sum assured for the policies sold by that person during the month.\n",
    "\n",
    "Titan's new scheme is that the sales force receive low regular salaries but are paid large bonuses related to their output (i.e. to the total sum assured of policies sold by them). The scheme is expensive for the company but they are looking for sales increases to compensate for it. The scheme has now been in operation for four months. It has settled down after fluctuations in the first two months due to the changeover.\n",
    "\n",
    "To test the effectiveness of the scheme, Titan has taken a random sample of 30 salespeople measured their output in the penultimate month prior to changeover and then measured it in the fourth month after the changeover (they have deliberately chosen months not too close to the changeover)."
   ]
  },
  {
   "cell_type": "markdown",
   "id": "f5ccda95",
   "metadata": {},
   "source": [
    "## Importing CSV"
   ]
  },
  {
   "cell_type": "code",
   "execution_count": 13,
   "id": "49efee26",
   "metadata": {},
   "outputs": [],
   "source": [
    "df = pd.read_csv('Titan Case Study-1.csv',encoding='ISO-8859-1') # read the data as a data frame"
   ]
  },
  {
   "cell_type": "markdown",
   "id": "c664236a",
   "metadata": {},
   "source": [
    "## Checking the top 5 rows"
   ]
  },
  {
   "cell_type": "code",
   "execution_count": 14,
   "id": "e2a01459",
   "metadata": {},
   "outputs": [
    {
     "data": {
      "text/html": [
       "<div>\n",
       "<style scoped>\n",
       "    .dataframe tbody tr th:only-of-type {\n",
       "        vertical-align: middle;\n",
       "    }\n",
       "\n",
       "    .dataframe tbody tr th {\n",
       "        vertical-align: top;\n",
       "    }\n",
       "\n",
       "    .dataframe thead th {\n",
       "        text-align: right;\n",
       "    }\n",
       "</style>\n",
       "<table border=\"1\" class=\"dataframe\">\n",
       "  <thead>\n",
       "    <tr style=\"text-align: right;\">\n",
       "      <th></th>\n",
       "      <th>Salesperson</th>\n",
       "      <th>Old Scheme</th>\n",
       "      <th>New Scheme</th>\n",
       "    </tr>\n",
       "  </thead>\n",
       "  <tbody>\n",
       "    <tr>\n",
       "      <th>0</th>\n",
       "      <td>1</td>\n",
       "      <td>57</td>\n",
       "      <td>62</td>\n",
       "    </tr>\n",
       "    <tr>\n",
       "      <th>1</th>\n",
       "      <td>2</td>\n",
       "      <td>103</td>\n",
       "      <td>122</td>\n",
       "    </tr>\n",
       "    <tr>\n",
       "      <th>2</th>\n",
       "      <td>3</td>\n",
       "      <td>59</td>\n",
       "      <td>54</td>\n",
       "    </tr>\n",
       "    <tr>\n",
       "      <th>3</th>\n",
       "      <td>4</td>\n",
       "      <td>75</td>\n",
       "      <td>82</td>\n",
       "    </tr>\n",
       "    <tr>\n",
       "      <th>4</th>\n",
       "      <td>5</td>\n",
       "      <td>84</td>\n",
       "      <td>84</td>\n",
       "    </tr>\n",
       "  </tbody>\n",
       "</table>\n",
       "</div>"
      ],
      "text/plain": [
       "   Salesperson  Old Scheme  New Scheme\n",
       "0            1          57          62\n",
       "1            2         103         122\n",
       "2            3          59          54\n",
       "3            4          75          82\n",
       "4            5          84          84"
      ]
     },
     "execution_count": 14,
     "metadata": {},
     "output_type": "execute_result"
    }
   ],
   "source": [
    "df.head()"
   ]
  },
  {
   "cell_type": "markdown",
   "id": "69f6137b",
   "metadata": {},
   "source": [
    "## Checking Summary of data"
   ]
  },
  {
   "cell_type": "code",
   "execution_count": 15,
   "id": "9439a9f7",
   "metadata": {},
   "outputs": [
    {
     "data": {
      "text/html": [
       "<div>\n",
       "<style scoped>\n",
       "    .dataframe tbody tr th:only-of-type {\n",
       "        vertical-align: middle;\n",
       "    }\n",
       "\n",
       "    .dataframe tbody tr th {\n",
       "        vertical-align: top;\n",
       "    }\n",
       "\n",
       "    .dataframe thead th {\n",
       "        text-align: right;\n",
       "    }\n",
       "</style>\n",
       "<table border=\"1\" class=\"dataframe\">\n",
       "  <thead>\n",
       "    <tr style=\"text-align: right;\">\n",
       "      <th></th>\n",
       "      <th>Salesperson</th>\n",
       "      <th>Old Scheme</th>\n",
       "      <th>New Scheme</th>\n",
       "    </tr>\n",
       "  </thead>\n",
       "  <tbody>\n",
       "    <tr>\n",
       "      <th>count</th>\n",
       "      <td>30.000000</td>\n",
       "      <td>30.000000</td>\n",
       "      <td>30.000000</td>\n",
       "    </tr>\n",
       "    <tr>\n",
       "      <th>mean</th>\n",
       "      <td>15.500000</td>\n",
       "      <td>68.033333</td>\n",
       "      <td>72.033333</td>\n",
       "    </tr>\n",
       "    <tr>\n",
       "      <th>std</th>\n",
       "      <td>8.803408</td>\n",
       "      <td>20.455980</td>\n",
       "      <td>24.062395</td>\n",
       "    </tr>\n",
       "    <tr>\n",
       "      <th>min</th>\n",
       "      <td>1.000000</td>\n",
       "      <td>28.000000</td>\n",
       "      <td>32.000000</td>\n",
       "    </tr>\n",
       "    <tr>\n",
       "      <th>25%</th>\n",
       "      <td>8.250000</td>\n",
       "      <td>54.000000</td>\n",
       "      <td>55.000000</td>\n",
       "    </tr>\n",
       "    <tr>\n",
       "      <th>50%</th>\n",
       "      <td>15.500000</td>\n",
       "      <td>67.000000</td>\n",
       "      <td>74.000000</td>\n",
       "    </tr>\n",
       "    <tr>\n",
       "      <th>75%</th>\n",
       "      <td>22.750000</td>\n",
       "      <td>81.500000</td>\n",
       "      <td>85.750000</td>\n",
       "    </tr>\n",
       "    <tr>\n",
       "      <th>max</th>\n",
       "      <td>30.000000</td>\n",
       "      <td>110.000000</td>\n",
       "      <td>122.000000</td>\n",
       "    </tr>\n",
       "  </tbody>\n",
       "</table>\n",
       "</div>"
      ],
      "text/plain": [
       "       Salesperson  Old Scheme  New Scheme\n",
       "count    30.000000   30.000000   30.000000\n",
       "mean     15.500000   68.033333   72.033333\n",
       "std       8.803408   20.455980   24.062395\n",
       "min       1.000000   28.000000   32.000000\n",
       "25%       8.250000   54.000000   55.000000\n",
       "50%      15.500000   67.000000   74.000000\n",
       "75%      22.750000   81.500000   85.750000\n",
       "max      30.000000  110.000000  122.000000"
      ]
     },
     "execution_count": 15,
     "metadata": {},
     "output_type": "execute_result"
    }
   ],
   "source": [
    "df.describe()"
   ]
  },
  {
   "cell_type": "markdown",
   "id": "2371d2cb",
   "metadata": {},
   "source": [
    "## Check for missing values"
   ]
  },
  {
   "cell_type": "code",
   "execution_count": 16,
   "id": "7f529d30",
   "metadata": {},
   "outputs": [
    {
     "data": {
      "text/plain": [
       "Salesperson    0\n",
       "Old Scheme     0\n",
       "New Scheme     0\n",
       "dtype: int64"
      ]
     },
     "execution_count": 16,
     "metadata": {},
     "output_type": "execute_result"
    }
   ],
   "source": [
    "# Check for missing value in any colum\n",
    "df.isnull().sum()"
   ]
  },
  {
   "cell_type": "code",
   "execution_count": 17,
   "id": "6881e7a6",
   "metadata": {},
   "outputs": [],
   "source": [
    "# There are no missing values in the dataset."
   ]
  },
  {
   "cell_type": "markdown",
   "id": "b54f2800",
   "metadata": {},
   "source": [
    "## There are no missing values in the dataset."
   ]
  },
  {
   "cell_type": "code",
   "execution_count": 19,
   "id": "4a3a4142",
   "metadata": {},
   "outputs": [
    {
     "data": {
      "image/png": "[encoded data removed]",
      "text/plain": [
       "<Figure size 1000x500 with 2 Axes>"
      ]
     },
     "metadata": {},
     "output_type": "display_data"
    }
   ],
   "source": [
    "df.iloc[:,1:3].hist(figsize=(10,5))\n",
    "plt.show()"
   ]
  },
  {
   "cell_type": "code",
   "execution_count": 20,
   "id": "9c712d14",
   "metadata": {},
   "outputs": [
    {
     "data": {
      "image/png": "[encoded data removed]",
      "text/plain": [
       "<Figure size 640x480 with 1 Axes>"
      ]
     },
     "metadata": {},
     "output_type": "display_data"
    }
   ],
   "source": [
    "sns.boxplot(x=df['New Scheme'], color='lightblue')\n",
    "plt.show()"
   ]
  },
  {
   "cell_type": "code",
   "execution_count": 21,
   "id": "6dca4b19",
   "metadata": {},
   "outputs": [
    {
     "data": {
      "image/png": "[encoded data removed]",
      "text/plain": [
       "<Figure size 640x480 with 1 Axes>"
      ]
     },
     "metadata": {},
     "output_type": "display_data"
    }
   ],
   "source": [
    "sns.boxplot(x=df['Old Scheme'], color = 'lightblue')\n",
    "plt.show()"
   ]
  },
  {
   "cell_type": "markdown",
   "id": "27da4e70",
   "metadata": {},
   "source": [
    "Mean and Median Values of each sample are not much different.\n",
    "\n",
    "The Old scheme data looks more symmetrically distributed, whereas the New scheme data looks left skewed."
   ]
  },
  {
   "cell_type": "markdown",
   "id": "e7343838",
   "metadata": {},
   "source": [
    "## Describe the five per cent significance test you would apply to these data to determine whether new scheme has significantly raised outputs?"
   ]
  },
  {
   "cell_type": "markdown",
   "id": "661fb7fd",
   "metadata": {},
   "source": [
    "The level of significance (Alpha ) = 0.05.\n",
    "\n",
    "But since the population standard deviation (Sigma) is unknown, we have to use a Tstat test.\n",
    "\n",
    "Degree of Freedom: Since the sample is the same for both Sampling tests, we have N-1 degrees of freedom : 29\n",
    "\n",
    "Since the sole purpose of the test is to check whether the New scheme is successful compared to old scheme, we would prefer a One-sided T-test.\n",
    "\n",
    "Hypothesis Formulation\n",
    "\n",
    "Use the T Test: Paired two Sample for Means:\n",
    "\n",
    "Ho = μold−μnew≥0\n",
    " (New Scheme did not raise the output significantly)\n",
    "\n",
    "Ha = μold−μnew<0\n",
    " (New Scheme raised the output significantly)"
   ]
  },
  {
   "cell_type": "code",
   "execution_count": 23,
   "id": "5344d433",
   "metadata": {},
   "outputs": [
    {
     "name": "stdout",
     "output_type": "stream",
     "text": [
      "-1.5559143823544377 0.13057553961337662\n"
     ]
    }
   ],
   "source": [
    "t, p_value  = stats.ttest_rel(df['Old Scheme'],df['New Scheme'])  #Performing a paired t-test\n",
    "\n",
    "print(t, p_value) #Python gives us a two tailed test. The pvalue here is for two-tailed test"
   ]
  },
  {
   "cell_type": "code",
   "execution_count": 24,
   "id": "b7c33e39",
   "metadata": {},
   "outputs": [
    {
     "data": {
      "text/plain": [
       "0.06528776980668831"
      ]
     },
     "execution_count": 24,
     "metadata": {},
     "output_type": "execute_result"
    }
   ],
   "source": [
    "#The following is the pvalue for a one-tailed test.\n",
    "\n",
    "(p_value/2)"
   ]
  },
  {
   "cell_type": "markdown",
   "id": "91545a6a",
   "metadata": {},
   "source": [
    "###  Note: The value of the test statistic does not change for a two-tailed test or a one-tailed test. Only the pvalue or the probability value associated with the test statistic changes."
   ]
  },
  {
   "cell_type": "code",
   "execution_count": 25,
   "id": "92f20e07",
   "metadata": {},
   "outputs": [
    {
     "name": "stdout",
     "output_type": "stream",
     "text": [
      "The T statistic is: -1.5559143823544377 \n",
      "The corresponding pvalue is : 0.06528776980668831\n"
     ]
    }
   ],
   "source": [
    "print ('The T statistic is:',t,'\\n''The corresponding pvalue is :',(p_value/2))"
   ]
  },
  {
   "cell_type": "markdown",
   "id": "d2dbd620",
   "metadata": {},
   "source": [
    "## What conclusion does the test lead to?"
   ]
  },
  {
   "cell_type": "markdown",
   "id": "e16d149c",
   "metadata": {},
   "source": [
    "In this scenario, the p value is 0.065 which is greater than the 0.05. Hence accept the null hypothesis that the new scheme did not raise the output significantly."
   ]
  },
  {
   "cell_type": "markdown",
   "id": "29f9422f",
   "metadata": {},
   "source": [
    "If we compare the means of the two sample distributions, we see that even though visually it seems as if New scheme has fared better, statistically it does not hold.\n",
    "\n",
    "The higher mean in the case of New scheme can also be attributed to the higher variance compared to Old Scheme.\n",
    "\n",
    "The variance of the second data set, 579.00, is 38% more than the variance of the first data set, 418.45. (Squaring of the standard deviation values gives us the values of the variance)\n",
    "\n",
    "We are unsure of the sampling error present in the data.\n",
    "\n",
    "Unpredictable pattern persist even after the bonus scheme direct the management to work on the lift (product portfolio) and to correct the bonus scheme in proportion to revenue generation rather than policy sale.\n",
    "\n",
    "The scheme is expensive for the company but they are looking to compensate it by increase in sales. The agreement with the sales force is that if the scheme does not at least break even for the company, it will be abandoned after six months. So, it's better for the management to wait for another two months.\n",
    "\n",
    "There is dip in the New Scheme towards end of the cycle, which suggests that the Sales team may have booked all their sales at the earlier part of the period to get their incentives early or may be waiting till the end of quarter (measurement period) to book all their sales at once. Hence aggregation of data for a quarter may provide more clarity on the performance than for a single month."
   ]
  },
  {
   "cell_type": "markdown",
   "id": "2419a475",
   "metadata": {},
   "source": [
    "## Suppose it has been calculated that in order for Titan to break even, the average output must increase by £5000. If this figure is alternative hypothesis, what is:"
   ]
  },
  {
   "cell_type": "markdown",
   "id": "f2caacfd",
   "metadata": {},
   "source": [
    "The probability of a type 1 error?\n",
    "The probability of a type 2 error?\n",
    "The power of the test?\n",
    "Type I error (𝜶): Probability of rejecting the null hypothesis when it is true. The probability of a Type I error in hypothesis testing is predetermined by the significance level.\n",
    "\n",
    "Type II error (𝜷) : Probability of failing to reject null when it is false. Type II error calculation depends on the population mean which is unknown.\n",
    "\n",
    "If alternate hypothesis μNewScheme–μOldScheme=μd\n",
    " = £5000 is true. What is the type I and II error?\n",
    "\n",
    "Null Hypothesis = μNewScheme–μOldScheme=μd\n",
    " = 0\n",
    "First we need to calculate the probability of Type I error which is predetermined by the significance level. If the significance level is 0.05, then type I error is 0.05. i.e. 5% probability we make Type I error i.e. rejecting the null hypothesis when it is true.\n",
    "Type II error calculation depends on a particular value of μ\n",
    ". In this case lets assume difference of population μd\n",
    " is £5K. Lets also assume that the significance level for the test is 0.05.\n",
    "Then the calculation is as below :\n",
    "\n",
    "This is a right tailed test\n",
    "Refer to appendix for steps for conducting paired t-tests (given at the end of casestudy)"
   ]
  },
  {
   "cell_type": "markdown",
   "id": "520bf9aa",
   "metadata": {},
   "source": [
    "## Finding Sample Standard Deviation for paired t-test"
   ]
  },
  {
   "cell_type": "code",
   "execution_count": 26,
   "id": "e75cc774",
   "metadata": {},
   "outputs": [],
   "source": [
    "df['Diff']=df['Old Scheme']- df['New Scheme']"
   ]
  },
  {
   "cell_type": "code",
   "execution_count": 27,
   "id": "8de5fdf3",
   "metadata": {},
   "outputs": [
    {
     "data": {
      "text/plain": [
       "14.08104619937615"
      ]
     },
     "execution_count": 27,
     "metadata": {},
     "output_type": "execute_result"
    }
   ],
   "source": [
    "df.Diff.std()\n",
    "#this code snippet by default takes N-1 as the degrees of freedom"
   ]
  },
  {
   "cell_type": "code",
   "execution_count": 28,
   "id": "c8465b71",
   "metadata": {},
   "outputs": [
    {
     "data": {
      "text/plain": [
       "14.08104619937615"
      ]
     },
     "execution_count": 28,
     "metadata": {},
     "output_type": "execute_result"
    }
   ],
   "source": [
    "np.std(df.Diff,ddof=1) # using numerical python's (NumPy) std function. We need to add ddof=1 for calculating sample sample sd"
   ]
  },
  {
   "cell_type": "markdown",
   "id": "a0e3fb77",
   "metadata": {},
   "source": [
    "### We can calculate the standard deviation using both the function if we adjust the parameters appropriately."
   ]
  },
  {
   "cell_type": "code",
   "execution_count": 29,
   "id": "2a7bc014",
   "metadata": {},
   "outputs": [
    {
     "data": {
      "text/plain": [
       "1.6991270265334977"
      ]
     },
     "execution_count": 29,
     "metadata": {},
     "output_type": "execute_result"
    }
   ],
   "source": [
    "# Tcritical at 5% confidence level with 29 Degree of Freedom: \n",
    "\n",
    "value = abs(stats.t.ppf(0.05, 29))\n",
    "value"
   ]
  },
  {
   "cell_type": "markdown",
   "id": "70755adc",
   "metadata": {},
   "source": [
    "We fail to reject the null hypothesis (commit a type II error) if we get a T-statistic less than 1.699127 for the sample size of 30\n",
    "\n",
    "To begin with, we need to find the D¯¯¯¯\n",
    " until we fail to reject the null hypothesis. Then we need to identify the probability of calculated D¯¯¯¯\n",
    " appearing when the μd\n",
    " = £5000.\n",
    "\n",
    "tstat=(d¯¯¯−μD)/Sd/n√\n",
    "\n",
    "\n",
    "1.699=    (d¯¯¯−0)/14.081/(√30)"
   ]
  },
  {
   "cell_type": "code",
   "execution_count": 30,
   "id": "31c06cc5",
   "metadata": {},
   "outputs": [
    {
     "data": {
      "text/plain": [
       "4.367835261153061"
      ]
     },
     "execution_count": 30,
     "metadata": {},
     "output_type": "execute_result"
    }
   ],
   "source": [
    "#From the above equation d-bar is\n",
    "\n",
    "dbar=1.699 * (14.081/np.sqrt(30))\n",
    "dbar"
   ]
  },
  {
   "cell_type": "markdown",
   "id": "542ced9f",
   "metadata": {},
   "source": [
    "The above calculation states that we will incorrectly fail to reject the null hypothesis as long as we draw samples where the difference of mean is less than £4.37K.\n",
    "\n",
    "Now given μold–μnew=5K\n",
    ", we can compute the probability of drawing the sample mean difference lesser than 4.37K as follows:"
   ]
  },
  {
   "cell_type": "code",
   "execution_count": 31,
   "id": "b6948efd",
   "metadata": {},
   "outputs": [
    {
     "data": {
      "text/plain": [
       "-0.24505731924455268"
      ]
     },
     "execution_count": 31,
     "metadata": {},
     "output_type": "execute_result"
    }
   ],
   "source": [
    "#Using the formula mentioned above we get the value of the t-statistic\n",
    "\n",
    "tstat=(4.37-5)/(14.081/np.sqrt(30))\n",
    "tstat"
   ]
  },
  {
   "cell_type": "markdown",
   "id": "f0bd93a0",
   "metadata": {},
   "source": [
    "## Probability of Type II Error (β)"
   ]
  },
  {
   "cell_type": "code",
   "execution_count": 32,
   "id": "0d5d69d6",
   "metadata": {},
   "outputs": [
    {
     "data": {
      "text/plain": [
       "0.40409092020034065"
      ]
     },
     "execution_count": 32,
     "metadata": {},
     "output_type": "execute_result"
    }
   ],
   "source": [
    "p = stats.t.cdf(-0.245, 29)\n",
    "p"
   ]
  },
  {
   "cell_type": "code",
   "execution_count": 33,
   "id": "effe4b3e",
   "metadata": {},
   "outputs": [
    {
     "name": "stdout",
     "output_type": "stream",
     "text": [
      "Hence, Probability of making Type II Error is 40.409 %\n"
     ]
    }
   ],
   "source": [
    "print('Hence, Probability of making Type II Error is',round(p*100,3),'%')"
   ]
  },
  {
   "cell_type": "markdown",
   "id": "0788eadd",
   "metadata": {},
   "source": [
    "## Power of the Test:\n",
    "Power of the hypothesis test is 1 minus the probability of Type II error. Basically the power of a test is the probability that we make the right decision when the null is not correct (i.e. we correctly reject it)"
   ]
  },
  {
   "cell_type": "markdown",
   "id": "7849c371",
   "metadata": {},
   "source": [
    "## Extra Question\n",
    "\n",
    "\n",
    "\n",
    "## What sample size would make the probabilities of type 1 and type 2 errors equal?"
   ]
  },
  {
   "cell_type": "markdown",
   "id": "ccb15f26",
   "metadata": {},
   "source": [
    "Let us assume we need Type 1 error and Type 2 error equal to .05\n",
    "\n",
    "Assuming sample standard deviation is equal to population standard deviation, we can calculate sample size needed as below :\n",
    "\n",
    "Null hypothesis mean difference (M0) is 0\n",
    "Alternative hypothesis mean difference (Ma) is 5\n",
    "Sample standard Deviation is 14.081\n",
    "Alpha value is 0.05\n",
    "Beta value is 0.05 i.e. power of test is 0.95 = 95%\n",
    "Sample Size calculation :"
   ]
  },
  {
   "cell_type": "code",
   "execution_count": 34,
   "id": "cedecccb",
   "metadata": {},
   "outputs": [
    {
     "data": {
      "text/plain": [
       "87.20281683306416"
      ]
     },
     "execution_count": 34,
     "metadata": {},
     "output_type": "execute_result"
    }
   ],
   "source": [
    "import statsmodels.stats.power as smp\n",
    "\n",
    "\n",
    "smp.tt_solve_power(effect_size=(5/14.081), nobs=None, alpha=0.05, power=0.95, alternative='larger')\n",
    "#here,since it is paired t-test, we are to take the difference of two means and then divide it by the standard deviation\n",
    "#Also, we are passing the code snippet for one-sample t-test as Python only has a independent two-sample t-test command\n",
    "#for the formula."
   ]
  },
  {
   "cell_type": "markdown",
   "id": "42b6477b",
   "metadata": {},
   "source": [
    "## Conclusion\n",
    "From the given data, it may be concluded that, statistically there is no significant increase in sales because of the new incentive plan. However, our recommendation is that the test be carried out with a larger sample size covering a longer test period (at least a quarter) to improve the accuracy of test result and negating any one-time effect on the sales performance. Also, the results need to be interpreted and future actions be planned with the understanding of overall business performance."
   ]
  },
  {
   "cell_type": "markdown",
   "id": "a4ab77fd",
   "metadata": {},
   "source": [
    "## Appendix\n",
    "\n",
    "## Procedure for carrying out a paired t-test\n",
    "\n",
    "Suppose a sample of n students were given a diagnostic test before studying a particular\n",
    "\n",
    "module and then again after completing the module. We want to find out if, in general,\n",
    "\n",
    "our teaching leads to improvements in students’ knowledge/skills (i.e. test scores). We\n",
    "\n",
    "can use the results from our sample of students to draw conclusions about the impact of\n",
    "this module in general"
   ]
  },
  {
   "cell_type": "markdown",
   "id": "a40c44cc",
   "metadata": {},
   "source": [
    "Let x = test score before the module, y = test score after the module To test the null hypothesis that the true mean difference is zero, the procedure is as follows: 1. Calculate the difference (di = yi − xi) between the two observations on each pair, making sure you distinguish between positive and negative differences. 2. Calculate the mean difference, d. 3. Calculate the standard deviation of the differences, sd, and use this to calculate the standard error of the mean difference, SE(d) = sd/√n 4. Calculate the t-statistic, which is given by T =d/SE(d), Under the null hypothesis, this statistic follows a t-distribution with n − 1 degrees of freedom. 5. Use tables of the t-distribution to compare your value for T to the tn-1 distribution. This will give the p-value for the paired t-test."
   ]
  },
  {
   "cell_type": "code",
   "execution_count": null,
   "id": "76898fa6",
   "metadata": {},
   "outputs": [],
   "source": []
  }
 ],
 "metadata": {
  "kernelspec": {
   "display_name": "Python 3 (ipykernel)",
   "language": "python",
   "name": "python3"
  },
  "language_info": {
   "codemirror_mode": {
    "name": "ipython",
    "version": 3
   },
   "file_extension": ".py",
   "mimetype": "text/x-python",
   "name": "python",
   "nbconvert_exporter": "python",
   "pygments_lexer": "ipython3",
   "version": "3.11.5"
  }
 },
 "nbformat": 4,
 "nbformat_minor": 5
}
